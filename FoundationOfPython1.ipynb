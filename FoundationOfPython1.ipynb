{
  "cells": [
    {
      "cell_type": "markdown",
      "metadata": {
        "id": "view-in-github",
        "colab_type": "text"
      },
      "source": [
        "<a href=\"https://colab.research.google.com/github/salmankhani-sk/FullStack-and-AICourse/blob/main/FoundationOfPython1.ipynb\" target=\"_parent\"><img src=\"https://colab.research.google.com/assets/colab-badge.svg\" alt=\"Open In Colab\"/></a>"
      ]
    },
    {
      "cell_type": "markdown",
      "metadata": {
        "id": "-1lv4VnI2wIx"
      },
      "source": [
        "#  Python Basics: Variables & Data Types\n",
        "\n",
        "In Python, **variables** are used to store data. Think of them as **containers** that hold information which you can use and manipulate later.\n",
        "\n"
      ]
    },
    {
      "cell_type": "code",
      "execution_count": null,
      "metadata": {
        "id": "ZGX61iGe271y"
      },
      "outputs": [],
      "source": [
        "name = \"ali\"\n",
        "rollno = 12\n",
        "gpa = 3.2\n",
        "isgraduated = True"
      ]
    },
    {
      "cell_type": "code",
      "execution_count": null,
      "metadata": {
        "colab": {
          "base_uri": "https://localhost:8080/"
        },
        "id": "jAa9j0LS3qPo",
        "outputId": "55f4a21e-465d-4e1a-b9d0-18d4f263ebff"
      },
      "outputs": [
        {
          "output_type": "stream",
          "name": "stdout",
          "text": [
            "ali\n"
          ]
        }
      ],
      "source": [
        "print(name)"
      ]
    },
    {
      "cell_type": "code",
      "execution_count": null,
      "metadata": {
        "colab": {
          "base_uri": "https://localhost:8080/"
        },
        "id": "_S-mfPVm3wxk",
        "outputId": "a5c35454-8fc8-4039-b7f4-75b3e6f178c8"
      },
      "outputs": [
        {
          "name": "stdout",
          "output_type": "stream",
          "text": [
            "Hello world\n"
          ]
        }
      ],
      "source": [
        "print(\"Hello world\")"
      ]
    },
    {
      "cell_type": "code",
      "execution_count": null,
      "metadata": {
        "colab": {
          "base_uri": "https://localhost:8080/"
        },
        "id": "CYL-Ch-d4RKZ",
        "outputId": "5f4091b3-da07-40df-ee00-1e0f76b57650"
      },
      "outputs": [
        {
          "output_type": "stream",
          "name": "stdout",
          "text": [
            "enter your namesalman\n",
            "hello salman\n"
          ]
        }
      ],
      "source": [
        "name = input(\"enter your name\")\n",
        "print(\"hello\",name)"
      ]
    },
    {
      "cell_type": "code",
      "execution_count": null,
      "metadata": {
        "colab": {
          "base_uri": "https://localhost:8080/"
        },
        "id": "54RI1gZ04Vw5",
        "outputId": "1a901205-1b83-4d19-b084-ee36d7de409c"
      },
      "outputs": [
        {
          "name": "stdout",
          "output_type": "stream",
          "text": [
            "enter your age17\n",
            "your age is 17\n",
            "you are eligible\n"
          ]
        }
      ],
      "source": [
        "age = int(input(\"enter your age\"))\n",
        "print(\"your age is\",age)\n",
        "nationality = \"pak\"\n",
        "if  nationality != \"pak\":\n",
        "    print(\"you are eligible\")\n",
        "else:\n",
        "    print(\"you are not eligible\")"
      ]
    },
    {
      "cell_type": "markdown",
      "metadata": {
        "id": "nCmSGY8B5huX"
      },
      "source": [
        "# Operators in Python\n",
        "\n",
        "Operators are special symbols in Python used to **perform operations on values or variables**.\n",
        "\n",
        "---\n",
        "\n",
        "##  Arithmetic Operators\n",
        "\n",
        "Used to perform basic mathematical operations.\n",
        "##  Arithmetic Operator Summary\n",
        "\n",
        "| Operator | Description        | Example     | Result   |\n",
        "|----------|--------------------|-------------|----------|\n",
        "| `+`      | Addition            | `2 + 3`     | `5`      |\n",
        "| `-`      | Subtraction         | `5 - 2`     | `3`      |\n",
        "| `*`      | Multiplication      | `4 * 3`     | `12`     |\n",
        "| `/`      | Division (float)    | `10 / 4`    | `2.5`    |\n",
        "| `//`     | Floor Division      | `10 // 4`   | `2`      |\n",
        "| `%`      | Modulus (remainder)| `10 % 3`    | `1`      |\n",
        "| `**`     | Exponent (power)    | `2 ** 3`    | `8`      |\n",
        "\n",
        "##  Comparison Operators\n",
        "\n",
        "Used to **compare two values**. The result is always a `bool` (True or False).\n",
        "\n",
        "##  Comparison Operator Summary\n",
        "\n",
        "| Operator | Meaning              | Example   | Result   |\n",
        "|----------|----------------------|-----------|----------|\n",
        "| `==`     | Equal to             | `5 == 5`  | `True`   |\n",
        "| `!=`     | Not equal to         | `5 != 3`  | `True`   |\n",
        "| `>`      | Greater than         | `5 > 2`   | `True`   |\n",
        "| `<`      | Less than            | `3 < 4`   | `True`   |\n",
        "| `>=`     | Greater than or equal| `5 >= 5`  | `True`   |\n",
        "| `<=`     | Less than or equal   | `3 <= 2`  | `False`  |\n",
        "\n",
        "##  Logical Operators\n",
        "\n",
        "Used to combine conditional statements.\n",
        "\n",
        "| Operator | Description                        | Example                     |\n",
        "|----------|------------------------------------|-----------------------------|\n",
        "| `and`    | True if both conditions are true   | `True and True → True`     |\n",
        "| `or`     | True if at least one is true       | `True or False → True`     |\n",
        "| `not`    | Reverses the result (True ↔ False) | `not True → False`         |\n"
      ]
    },
    {
      "cell_type": "code",
      "execution_count": null,
      "metadata": {
        "colab": {
          "base_uri": "https://localhost:8080/"
        },
        "id": "LCTIcA_I5mT6",
        "outputId": "5f3a6d8d-c266-4a3c-d39e-7a3d88087ac6"
      },
      "outputs": [
        {
          "output_type": "stream",
          "name": "stdout",
          "text": [
            "You are not eligible\n"
          ]
        }
      ],
      "source": [
        "age = 101\n",
        "if age >= 18 and age < 100:\n",
        "  print(\"You can vote\")\n",
        "else:\n",
        "  print(\"You are not eligible\")\n"
      ]
    },
    {
      "cell_type": "markdown",
      "metadata": {
        "id": "eUiZJ2y07C9y"
      },
      "source": [
        "#  Python Data Types: Primitive vs Non-Primitive\n",
        "\n",
        "In Python, data types are divided into two main categories:\n",
        "\n",
        "---\n",
        "\n",
        "##  Primitive Data Types\n",
        "\n",
        "Used to **store a single value** at a time.\n",
        "\n",
        "| Type    | Example              | Description                   |\n",
        "|---------|----------------------|-------------------------------|\n",
        "| `int`   | `10`, `-4`, `0`      | Whole numbers                 |\n",
        "| `float` | `3.14`, `-0.5`       | Decimal (floating point)      |\n",
        "| `str`   | `\"admin@7&1232\"`     | Text or string                |\n",
        "| `bool`  | `True`, `False`      | Boolean (Yes/No, On/Off)      |\n",
        "\n",
        "## Non-Primitive Data Types\n",
        "\n",
        "Used to **store multiple values** together in a single variable.\n",
        "\n",
        "---\n",
        "\n",
        "### 🔹 `list` → Ordered, Mutable\n",
        "\n",
        "A list can store multiple items and can be changed.\n",
        "\n",
        "```python\n",
        "fruit = [\"apple\", \"banana\", \"orange\"]\n",
        "print(fruit[0])  # Output: apple\n",
        "```\n",
        "\n",
        "### 🔹 `tuple` → Ordered, Immutable\n",
        "\n",
        "A tuple is like a list, but **cannot be changed** once created.\n",
        "\n",
        "```python\n",
        "colors = (\"red\", \"blue\", \"black\")\n",
        "```\n",
        "### 🔹 `set` → Unordered, Unique Items Only\n",
        "\n",
        "A set does **not allow duplicates** and has **no specific order**.\n",
        "\n",
        "```python\n",
        "nums = {1, 2, 5, 3, 9, 6, 2}  # '2' is repeated\n",
        "\n",
        "```\n",
        "### 🔹 `dict` → Key-Value Pairs\n",
        "\n",
        "A dictionary stores data in the form of **key: value**.\n",
        "\n",
        "```python\n",
        "student = {\"name\": \"Ali\", \"rollno\": 205}\n",
        "```\n",
        "## Summary Table\n",
        "\n",
        "| Type    | Ordered | Mutable | Duplicate Allowed | Example                      |\n",
        "|---------|---------|---------|-------------------|------------------------------|\n",
        "| `list`  | ✅      | ✅      | ✅                | `[\"apple\", \"banana\"]`        |\n",
        "| `tuple` | ✅      | ❌      | ✅                | `(\"red\", \"blue\")`            |\n",
        "| `set`   | ❌      | ✅      | ❌                | `{1, 2, 3}`                  |\n",
        "| `dict`  | ✅      | ✅      | ❌ (keys)         | `{\"name\": \"Ali\"}`            |\n"
      ]
    },
    {
      "cell_type": "code",
      "execution_count": null,
      "metadata": {
        "colab": {
          "base_uri": "https://localhost:8080/"
        },
        "id": "zB3qDfu_8rbs",
        "outputId": "1cec1049-c824-4c30-d813-9561e269d383"
      },
      "outputs": [
        {
          "output_type": "stream",
          "name": "stdout",
          "text": [
            "[1, 2, 3, 4, 5]\n"
          ]
        }
      ],
      "source": [
        "li = [1,2,3,4,5]\n",
        "print(li)"
      ]
    },
    {
      "cell_type": "code",
      "execution_count": null,
      "metadata": {
        "colab": {
          "base_uri": "https://localhost:8080/"
        },
        "id": "Nfmly9kW-Y5P",
        "outputId": "8f351e40-f520-4697-ab1d-1eff11d15ab0"
      },
      "outputs": [
        {
          "output_type": "stream",
          "name": "stdout",
          "text": [
            "[1, 2, 3, 4, 10]\n"
          ]
        }
      ],
      "source": [
        "li[4] = 10\n",
        "print(li)"
      ]
    },
    {
      "cell_type": "code",
      "execution_count": null,
      "metadata": {
        "colab": {
          "base_uri": "https://localhost:8080/"
        },
        "id": "P8X1pAJh-fPE",
        "outputId": "754b2467-ae6b-4f19-8880-ef0244ac95f4"
      },
      "outputs": [
        {
          "output_type": "stream",
          "name": "stdout",
          "text": [
            "[1, 2, 3, 4, 10, 20]\n"
          ]
        }
      ],
      "source": [
        "li.append(20)\n",
        "print(li)"
      ]
    },
    {
      "cell_type": "code",
      "execution_count": null,
      "metadata": {
        "colab": {
          "base_uri": "https://localhost:8080/"
        },
        "id": "SXko0VWu-rFx",
        "outputId": "6603d4e5-0a01-4ea9-efb9-4179e89b3d52"
      },
      "outputs": [
        {
          "output_type": "stream",
          "name": "stdout",
          "text": [
            "(2, 4, 667, 34, 2)\n"
          ]
        }
      ],
      "source": [
        "tp = (2,4,667,34,2)\n",
        "print(tp)"
      ]
    },
    {
      "cell_type": "code",
      "execution_count": null,
      "metadata": {
        "colab": {
          "base_uri": "https://localhost:8080/",
          "height": 158
        },
        "id": "ugWLISuZ_QlR",
        "outputId": "52efbf19-f4b0-4ac4-cdf2-d584add9a977"
      },
      "outputs": [
        {
          "output_type": "error",
          "ename": "TypeError",
          "evalue": "'tuple' object does not support item assignment",
          "traceback": [
            "\u001b[0;31m---------------------------------------------------------------------------\u001b[0m",
            "\u001b[0;31mTypeError\u001b[0m                                 Traceback (most recent call last)",
            "\u001b[0;32m/tmp/ipython-input-10-3990291478.py\u001b[0m in \u001b[0;36m<cell line: 0>\u001b[0;34m()\u001b[0m\n\u001b[0;32m----> 1\u001b[0;31m \u001b[0mtp\u001b[0m\u001b[0;34m[\u001b[0m\u001b[0;36m0\u001b[0m\u001b[0;34m]\u001b[0m \u001b[0;34m=\u001b[0m \u001b[0;36m10\u001b[0m\u001b[0;34m\u001b[0m\u001b[0;34m\u001b[0m\u001b[0m\n\u001b[0m\u001b[1;32m      2\u001b[0m \u001b[0mprint\u001b[0m\u001b[0;34m(\u001b[0m\u001b[0mtp\u001b[0m\u001b[0;34m)\u001b[0m\u001b[0;34m\u001b[0m\u001b[0;34m\u001b[0m\u001b[0m\n",
            "\u001b[0;31mTypeError\u001b[0m: 'tuple' object does not support item assignment"
          ]
        }
      ],
      "source": [
        "tp[0] = 10\n",
        "print(tp)"
      ]
    },
    {
      "cell_type": "code",
      "execution_count": null,
      "metadata": {
        "colab": {
          "base_uri": "https://localhost:8080/"
        },
        "id": "wyg92cGV_TDF",
        "outputId": "d2dbd73a-f20b-4ea5-ea09-ca78cfcac372"
      },
      "outputs": [
        {
          "output_type": "stream",
          "name": "stdout",
          "text": [
            "{1, 3, 4, 5, 7, 9}\n"
          ]
        }
      ],
      "source": [
        "st = {1 , 3, 5, 7, 3,9,4,7}\n",
        "print(st)"
      ]
    },
    {
      "cell_type": "code",
      "execution_count": null,
      "metadata": {
        "colab": {
          "base_uri": "https://localhost:8080/"
        },
        "id": "lVuwW0eu_wlQ",
        "outputId": "7dcb58dc-22c9-4062-fd8b-dcc27a5b703c"
      },
      "outputs": [
        {
          "output_type": "stream",
          "name": "stdout",
          "text": [
            "205\n"
          ]
        }
      ],
      "source": [
        "dict1 = {\"name\":\"ali\",\"rollno\":205}\n",
        "print(dict1[\"rollno\"])"
      ]
    },
    {
      "cell_type": "code",
      "execution_count": null,
      "metadata": {
        "colab": {
          "base_uri": "https://localhost:8080/"
        },
        "id": "jWEgOGNcAk9e",
        "outputId": "19381bdb-9209-46a1-ff1d-9759c816b52b"
      },
      "outputs": [
        {
          "output_type": "stream",
          "name": "stdout",
          "text": [
            "{'name': 'salman', 'rollno': 204, 'GPA': 3.13}\n"
          ]
        }
      ],
      "source": [
        "dict1 ={\"001agr2021\":{\"name\":\"ali\",\"rollno\":205},\n",
        "       \"002agr2021\":{\"name\":\"salman\",\"rollno\":204,\"GPA\":3.13}}\n",
        "\n",
        "print(dict1[\"002agr2021\"])"
      ]
    },
    {
      "cell_type": "code",
      "execution_count": null,
      "metadata": {
        "colab": {
          "base_uri": "https://localhost:8080/"
        },
        "id": "t0ngeOxTB2We",
        "outputId": "c812c428-7060-4e3e-e006-01782fafdd5f"
      },
      "outputs": [
        {
          "name": "stdout",
          "output_type": "stream",
          "text": [
            "red\n",
            "green\n",
            "blue\n",
            "black\n"
          ]
        }
      ],
      "source": [
        "colors = [\"red\",\"green\",\"blue\",\"black\"]\n",
        "for i in colors:\n",
        "  print(i)"
      ]
    },
    {
      "cell_type": "code",
      "execution_count": null,
      "metadata": {
        "colab": {
          "base_uri": "https://localhost:8080/"
        },
        "id": "I41fcf3WDALu",
        "outputId": "9f4acb2f-038e-4f94-d0be-52a34a896531"
      },
      "outputs": [
        {
          "name": "stdout",
          "output_type": "stream",
          "text": [
            "2\n",
            "4\n",
            "6\n",
            "8\n",
            "10\n"
          ]
        }
      ],
      "source": [
        "for i in range(2,11,2):\n",
        "  print(i)"
      ]
    },
    {
      "cell_type": "markdown",
      "metadata": {
        "id": "J-vjYykfEbYz"
      },
      "source": [
        "# Loops in Python\n",
        "\n",
        "Loops are used to **repeat a block of code** multiple times.\n",
        "\n",
        "---\n",
        "\n",
        "##  Why Use Loops?\n",
        "\n",
        "- To **avoid repeating code manually**\n",
        "- To **automate repetitive tasks**\n",
        "- To **work with sequences (lists, strings, etc.)**\n",
        "\n",
        "---\n",
        "\n",
        "##  Types of Loops in Python\n",
        "\n",
        "| Loop Type | Use Case                                  | Example                |\n",
        "|-----------|-------------------------------------------|------------------------|\n",
        "| `for`     | When you **know** how many times to repeat| `for i in range(...)` |\n",
        "| `while`   | When you **don't know** how many times    | `while condition:`    |\n",
        "\n",
        "##  for loop\n",
        "\n",
        "Used when you **know ahead of time** how many times the loop should run.\n",
        "\n",
        "```python\n",
        "for i in range(1, 5):\n",
        "    print(\"Hello\", i)\n",
        "```\n",
        "## while loop\n",
        "\n",
        "Used when you want to **keep looping as long as a condition is true**.\n",
        "\n",
        "```python\n",
        "count = 1\n",
        "while count <= 3:\n",
        "    print(\"Welcome\", count)\n",
        "    count += 1\n",
        "```\n",
        "##  Infinite Loop Warning\n",
        "\n",
        "If the condition in a `while` loop is **always True**, the loop will never stop!\n",
        "\n",
        "```python\n",
        "#  This will keep running forever!\n",
        "# while True:\n",
        "#     print(\"This is an infinite loop\")\n",
        "\n",
        "```\n"
      ]
    },
    {
      "cell_type": "code",
      "execution_count": null,
      "metadata": {
        "colab": {
          "base_uri": "https://localhost:8080/"
        },
        "id": "owRs-r3cDyon",
        "outputId": "ae375f96-0e4a-410c-95ed-b714980de578"
      },
      "outputs": [
        {
          "output_type": "stream",
          "name": "stdout",
          "text": [
            "0 Hello world\n",
            "1 Hello world\n",
            "2 Hello world\n",
            "3 Hello world\n",
            "4 Hello world\n",
            "5 Hello world\n",
            "6 Hello world\n",
            "7 Hello world\n",
            "8 Hello world\n",
            "9 Hello world\n"
          ]
        }
      ],
      "source": [
        "for i in range(10):\n",
        "  print(i,\"Hello world\")"
      ]
    },
    {
      "cell_type": "code",
      "execution_count": null,
      "metadata": {
        "colab": {
          "base_uri": "https://localhost:8080/"
        },
        "id": "bPB038P2F3Du",
        "outputId": "b25944a1-a3c5-48d0-83a8-4c72d57d6fa6"
      },
      "outputs": [
        {
          "output_type": "stream",
          "name": "stdout",
          "text": [
            "1 Hello world\n",
            "2 Hello world\n",
            "3 Hello world\n",
            "4 Hello world\n",
            "5 Hello world\n",
            "6 Hello world\n",
            "7 Hello world\n",
            "8 Hello world\n",
            "9 Hello world\n",
            "10 Hello world\n"
          ]
        }
      ],
      "source": [
        "count = 1\n",
        "while count <= 10:\n",
        "  print(count,\"Hello world\")\n",
        "  count = count + 1"
      ]
    },
    {
      "cell_type": "code",
      "execution_count": null,
      "metadata": {
        "id": "VT3r-djHGIq7",
        "colab": {
          "base_uri": "https://localhost:8080/"
        },
        "outputId": "edc15ed9-96b0-40e2-98e3-9b69fc2c41ac"
      },
      "outputs": [
        {
          "output_type": "stream",
          "name": "stdout",
          "text": [
            "Enter your passwordsalman\n",
            "Incorrect password\n",
            "Enter your passwordadmin\n",
            "Incorrect password\n",
            "Enter your passwordadmin123\n",
            "Correct password\n"
          ]
        }
      ],
      "source": [
        "pas = input(\"Enter your password\")\n",
        "while pas != \"admin123\":\n",
        "  print(\"Incorrect password\")\n",
        "  pas = input(\"Enter your password\")\n",
        "print(\"Correct password\")"
      ]
    },
    {
      "cell_type": "code",
      "source": [
        "attem = 0\n",
        "while attem < 3:\n",
        "  pas = input(\"Enter your password\")\n",
        "  if pas == \"admin123\":\n",
        "    print(\"Correct password\")\n",
        "    break\n",
        "  else:\n",
        "    print(\"Incorrect password\")\n",
        "    attem = attem + 1"
      ],
      "metadata": {
        "colab": {
          "base_uri": "https://localhost:8080/"
        },
        "id": "Zp-uTYXULRdR",
        "outputId": "b2e17b1e-786e-4a81-a29e-504c612ff9e2"
      },
      "execution_count": null,
      "outputs": [
        {
          "output_type": "stream",
          "name": "stdout",
          "text": [
            "Enter your passwordadm\n",
            "Incorrect password\n",
            "Enter your passwordth\n",
            "Incorrect password\n",
            "Enter your passwordhr\n",
            "Incorrect password\n"
          ]
        }
      ]
    },
    {
      "cell_type": "code",
      "source": [
        "age = 20\n",
        "if age >= 18:\n",
        "  print(\"You are eligible\")\n",
        "else:\n",
        "  print(\"You are not eligible\")"
      ],
      "metadata": {
        "colab": {
          "base_uri": "https://localhost:8080/"
        },
        "id": "7JPnpkulL2DZ",
        "outputId": "963b0c11-e77f-4ade-c66a-4b429338c316"
      },
      "execution_count": null,
      "outputs": [
        {
          "output_type": "stream",
          "name": "stdout",
          "text": [
            "You are eligible\n"
          ]
        }
      ]
    },
    {
      "cell_type": "code",
      "source": [
        "marks = int(input(\"Enter Your marks\"))\n",
        "if marks >= 60:\n",
        "  print(\"Grade C\")\n",
        "elif marks >= 70:\n",
        "  print(\"Grade B\")\n",
        "elif marks >= 80:\n",
        "  print(\"Grade A\")\n",
        "elif marks >= 50:\n",
        "  print(\"Grade D\")\n",
        "else :\n",
        "  print(\"Grade: Fail\")"
      ],
      "metadata": {
        "colab": {
          "base_uri": "https://localhost:8080/"
        },
        "id": "TwSzM7eTNLzz",
        "outputId": "bac7ffa9-7844-4854-b1d5-be70ce99cb8c"
      },
      "execution_count": null,
      "outputs": [
        {
          "output_type": "stream",
          "name": "stdout",
          "text": [
            "Enter Your marks90\n",
            "Grade C\n"
          ]
        }
      ]
    },
    {
      "cell_type": "code",
      "source": [
        "username = input(\"Enter your username\")\n",
        "password = input(\"Enter your password\")\n",
        "if username == \"admin\" and password == \"admin123\":\n",
        "  print(\"Login successful\")\n",
        "else:\n",
        "  print(\"Login failed\")"
      ],
      "metadata": {
        "colab": {
          "base_uri": "https://localhost:8080/"
        },
        "id": "edXFY3gNNkMN",
        "outputId": "666d2b12-37dc-4143-b040-b2892d0d43bb"
      },
      "execution_count": null,
      "outputs": [
        {
          "output_type": "stream",
          "name": "stdout",
          "text": [
            "Enter your usernameadmin\n",
            "Enter your passwordadmin123\n",
            "Login successful\n"
          ]
        }
      ]
    },
    {
      "cell_type": "code",
      "source": [
        "for i in range(1,11):\n",
        "  print(\"2 \",i,\"=\",i*2)"
      ],
      "metadata": {
        "id": "LE1r9Df6Oqm1",
        "colab": {
          "base_uri": "https://localhost:8080/"
        },
        "outputId": "01f53c28-37a3-46d6-a3fb-faf6c0715643"
      },
      "execution_count": null,
      "outputs": [
        {
          "output_type": "stream",
          "name": "stdout",
          "text": [
            "2  1 = 2\n",
            "2  2 = 4\n",
            "2  3 = 6\n",
            "2  4 = 8\n",
            "2  5 = 10\n",
            "2  6 = 12\n",
            "2  7 = 14\n",
            "2  8 = 16\n",
            "2  9 = 18\n",
            "2  10 = 20\n"
          ]
        }
      ]
    },
    {
      "cell_type": "code",
      "source": [
        "table = int(input(\"Enter the table u want to print\"))\n",
        "count = int(input(\"Enter the count\"))\n",
        "for i in range(1,count+1):\n",
        "  print(f\"{table} X {i} = \" , i*table)"
      ],
      "metadata": {
        "colab": {
          "base_uri": "https://localhost:8080/"
        },
        "id": "rth6f2MJjxSL",
        "outputId": "e2cdf256-5e97-4038-f226-f25ddf21c6d8"
      },
      "execution_count": null,
      "outputs": [
        {
          "output_type": "stream",
          "name": "stdout",
          "text": [
            "Enter the table u want to print10\n",
            "Enter the count20\n",
            "10 X 1 =  10\n",
            "10 X 2 =  20\n",
            "10 X 3 =  30\n",
            "10 X 4 =  40\n",
            "10 X 5 =  50\n",
            "10 X 6 =  60\n",
            "10 X 7 =  70\n",
            "10 X 8 =  80\n",
            "10 X 9 =  90\n",
            "10 X 10 =  100\n",
            "10 X 11 =  110\n",
            "10 X 12 =  120\n",
            "10 X 13 =  130\n",
            "10 X 14 =  140\n",
            "10 X 15 =  150\n",
            "10 X 16 =  160\n",
            "10 X 17 =  170\n",
            "10 X 18 =  180\n",
            "10 X 19 =  190\n",
            "10 X 20 =  200\n"
          ]
        }
      ]
    },
    {
      "cell_type": "markdown",
      "source": [
        "# Python Functions\n",
        "\n",
        "A **function** is a **reusable block of code** that performs a **specific task**.\n",
        "\n",
        "---\n",
        "\n",
        "##  Why Use Functions?\n",
        "\n",
        "- To **reuse code** (Don't repeat yourself!)\n",
        "- To **organize** code into readable parts\n",
        "- To **make your programs easier to manage**\n",
        "\n",
        "##  Defining a Function\n",
        "\n",
        "Use the `def` keyword to define a function:\n",
        "\n",
        "```python\n",
        "def function_name():\n",
        "    print(\"Hello, this is a function!\")\n",
        "```\n",
        "##  Function Summary\n",
        "\n",
        "| Keyword | Purpose                 |\n",
        "|---------|-------------------------|\n",
        "| `def`   | Used to define a function |\n",
        "| `()`    | Call or define parameters |\n",
        "| `:`     | Starts the function block |\n",
        "\n",
        "##  Parameters in Functions\n",
        "\n",
        "You can pass data to functions using **parameters**.\n",
        "\n",
        "```python\n",
        "def greeting(name):\n",
        "    print(f\"Hello, {name}!\")\n",
        "```\n",
        "## Multiple Parameters\n",
        "\n",
        "You can pass more than one parameter:\n",
        "\n",
        "```python\n",
        "def full_name(first, last):\n",
        "    print(f\"Welcome, {first} {last}!\")\n",
        "```\n"
      ],
      "metadata": {
        "id": "JtcEkF6jl9JJ"
      }
    },
    {
      "cell_type": "code",
      "source": [
        "def hello():\n",
        "  print(\"Hello world\")\n",
        "hello()\n",
        "hello()\n",
        "hello()"
      ],
      "metadata": {
        "colab": {
          "base_uri": "https://localhost:8080/"
        },
        "id": "nTrZ_lgo4JpT",
        "outputId": "90467763-6fcf-4ae6-9d13-85dc2b45cbdb"
      },
      "execution_count": null,
      "outputs": [
        {
          "output_type": "stream",
          "name": "stdout",
          "text": [
            "Hello world\n",
            "Hello world\n",
            "Hello world\n"
          ]
        }
      ]
    },
    {
      "cell_type": "code",
      "source": [
        "def greeting(name=\"guest\"):\n",
        "  print(f\"Welcome to our event {name}\")\n",
        "greeting(\"tom\")\n",
        "greeting(\"john\")\n",
        "greeting()"
      ],
      "metadata": {
        "colab": {
          "base_uri": "https://localhost:8080/"
        },
        "id": "BBuqYJOH4P5m",
        "outputId": "3adc7fc4-6ffd-4fa3-a404-99e40ffc357b"
      },
      "execution_count": null,
      "outputs": [
        {
          "output_type": "stream",
          "name": "stdout",
          "text": [
            "Welcome to our event tom\n",
            "Welcome to our event john\n",
            "Welcome to our event guest\n"
          ]
        }
      ]
    },
    {
      "cell_type": "code",
      "source": [
        "def add(num1,num2):\n",
        "  return num1 + num2\n",
        "def sub(num1,num2):\n",
        "  return num1 - num2\n",
        "def mul(num1,num2):\n",
        "  return num1 * num2\n",
        "def div(num1,num2):\n",
        "  return num1 / num2\n",
        "num1 = int(input(\"Enter first number\"))\n",
        "num2 = int(input(\"Enter second number\"))\n",
        "print(add(num1,num2))\n",
        "print(sub(num1,num2))\n",
        "print(mul(num1,num2))\n",
        "print(div(num1,num2))"
      ],
      "metadata": {
        "colab": {
          "base_uri": "https://localhost:8080/"
        },
        "id": "a6PecV4k4hcv",
        "outputId": "e834ed0a-23b5-495c-879f-941f8c4734e8"
      },
      "execution_count": null,
      "outputs": [
        {
          "output_type": "stream",
          "name": "stdout",
          "text": [
            "Enter first number10\n",
            "Enter second number5\n",
            "15\n",
            "5\n",
            "50\n",
            "2.0\n"
          ]
        }
      ]
    },
    {
      "cell_type": "markdown",
      "source": [
        "# Exception Handling in Python\n",
        "\n",
        "An **exception** is a **runtime error** that **stops your program** if it is not handled.\n",
        "\n",
        "---\n",
        "\n",
        "##  Why Handle Exceptions?\n",
        "\n",
        "- Prevent program from **crashing**\n",
        "- Show **user-friendly messages**\n",
        "- Handle unexpected inputs or situations\n",
        "\n",
        "##  Example of an Exception\n",
        "\n",
        "```python\n",
        "# This will cause an error if y = 0\n",
        "x = 10\n",
        "y = 0\n",
        "print(x / y)\n",
        "```\n",
        "##  Try-Except Block\n",
        "\n",
        "Use `try` and `except` to handle exceptions:\n",
        "\n",
        "```python\n",
        "try:\n",
        "    # risky code here\n",
        "except:\n",
        "    # code to run if there's an error\n",
        "```\n",
        "##  Specific Exception Types\n",
        "\n",
        "You can catch specific errors like this:\n",
        "\n",
        "```python\n",
        "try:\n",
        "    num = int(\"abc\")\n",
        "except ValueError:\n",
        "    print(\" Please enter a valid number.\")\n",
        "```\n",
        "## finally Block\n",
        "\n",
        "The `finally` block is **always executed** whether there's an error or not.\n",
        "\n",
        "```python\n",
        "try:\n",
        "    x = 10 / 0\n",
        "except ZeroDivisionError:\n",
        "    print(\"Error: Division by zero.\")\n",
        "\n",
        "  ```\n",
        "##  Common Exception Types\n",
        "\n",
        "| Exception         | Description                        |\n",
        "|------------------|------------------------------------|\n",
        "| `ZeroDivisionError` | Dividing a number by zero       |\n",
        "| `ValueError`      | Invalid value passed (e.g., text as int) |\n",
        "| `TypeError`       | Wrong data type used              |\n",
        "| `IndexError`      | Accessing a list item out of range |\n",
        "\n"
      ],
      "metadata": {
        "id": "NRavgLuhTcjD"
      }
    },
    {
      "cell_type": "code",
      "source": [
        "num = 10\n",
        "result = 1000 / 0\n",
        "print(result)"
      ],
      "metadata": {
        "colab": {
          "base_uri": "https://localhost:8080/",
          "height": 176
        },
        "id": "x94ER_5dT6fB",
        "outputId": "86bb6e6f-b462-4f34-da3b-aeaeaa0a43fa"
      },
      "execution_count": null,
      "outputs": [
        {
          "output_type": "error",
          "ename": "ZeroDivisionError",
          "evalue": "division by zero",
          "traceback": [
            "\u001b[0;31m---------------------------------------------------------------------------\u001b[0m",
            "\u001b[0;31mZeroDivisionError\u001b[0m                         Traceback (most recent call last)",
            "\u001b[0;32m/tmp/ipython-input-22-2917837084.py\u001b[0m in \u001b[0;36m<cell line: 0>\u001b[0;34m()\u001b[0m\n\u001b[1;32m      1\u001b[0m \u001b[0mnum\u001b[0m \u001b[0;34m=\u001b[0m \u001b[0;36m10\u001b[0m\u001b[0;34m\u001b[0m\u001b[0;34m\u001b[0m\u001b[0m\n\u001b[0;32m----> 2\u001b[0;31m \u001b[0mresult\u001b[0m \u001b[0;34m=\u001b[0m \u001b[0;36m1000\u001b[0m \u001b[0;34m/\u001b[0m \u001b[0;36m0\u001b[0m\u001b[0;34m\u001b[0m\u001b[0;34m\u001b[0m\u001b[0m\n\u001b[0m\u001b[1;32m      3\u001b[0m \u001b[0mprint\u001b[0m\u001b[0;34m(\u001b[0m\u001b[0mresult\u001b[0m\u001b[0;34m)\u001b[0m\u001b[0;34m\u001b[0m\u001b[0;34m\u001b[0m\u001b[0m\n",
            "\u001b[0;31mZeroDivisionError\u001b[0m: division by zero"
          ]
        }
      ]
    },
    {
      "cell_type": "code",
      "source": [
        "try :\n",
        "  num = int(input(\"Enter a number1: \"))\n",
        "  num2 = int(input(\"Enter a number2: \"))\n",
        "  result = num / num2\n",
        "  print(result)\n",
        "except ZeroDivisionError:\n",
        "  print(\"Munga Zero bande nashoo divide kole\")"
      ],
      "metadata": {
        "colab": {
          "base_uri": "https://localhost:8080/",
          "height": 245
        },
        "id": "27GBNlijUBnR",
        "outputId": "b4109849-f800-4537-b90c-014600f7b18e"
      },
      "execution_count": null,
      "outputs": [
        {
          "name": "stdout",
          "output_type": "stream",
          "text": [
            "Enter a number1: 10\n",
            "Enter a number2: salman\n"
          ]
        },
        {
          "output_type": "error",
          "ename": "ValueError",
          "evalue": "invalid literal for int() with base 10: 'salman'",
          "traceback": [
            "\u001b[0;31m---------------------------------------------------------------------------\u001b[0m",
            "\u001b[0;31mValueError\u001b[0m                                Traceback (most recent call last)",
            "\u001b[0;32m/tmp/ipython-input-24-191613026.py\u001b[0m in \u001b[0;36m<cell line: 0>\u001b[0;34m()\u001b[0m\n\u001b[1;32m      1\u001b[0m \u001b[0;32mtry\u001b[0m \u001b[0;34m:\u001b[0m\u001b[0;34m\u001b[0m\u001b[0;34m\u001b[0m\u001b[0m\n\u001b[1;32m      2\u001b[0m   \u001b[0mnum\u001b[0m \u001b[0;34m=\u001b[0m \u001b[0mint\u001b[0m\u001b[0;34m(\u001b[0m\u001b[0minput\u001b[0m\u001b[0;34m(\u001b[0m\u001b[0;34m\"Enter a number1: \"\u001b[0m\u001b[0;34m)\u001b[0m\u001b[0;34m)\u001b[0m\u001b[0;34m\u001b[0m\u001b[0;34m\u001b[0m\u001b[0m\n\u001b[0;32m----> 3\u001b[0;31m   \u001b[0mnum2\u001b[0m \u001b[0;34m=\u001b[0m \u001b[0mint\u001b[0m\u001b[0;34m(\u001b[0m\u001b[0minput\u001b[0m\u001b[0;34m(\u001b[0m\u001b[0;34m\"Enter a number2: \"\u001b[0m\u001b[0;34m)\u001b[0m\u001b[0;34m)\u001b[0m\u001b[0;34m\u001b[0m\u001b[0;34m\u001b[0m\u001b[0m\n\u001b[0m\u001b[1;32m      4\u001b[0m   \u001b[0mresult\u001b[0m \u001b[0;34m=\u001b[0m \u001b[0mnum\u001b[0m \u001b[0;34m/\u001b[0m \u001b[0mnum2\u001b[0m\u001b[0;34m\u001b[0m\u001b[0;34m\u001b[0m\u001b[0m\n\u001b[1;32m      5\u001b[0m   \u001b[0mprint\u001b[0m\u001b[0;34m(\u001b[0m\u001b[0mresult\u001b[0m\u001b[0;34m)\u001b[0m\u001b[0;34m\u001b[0m\u001b[0;34m\u001b[0m\u001b[0m\n",
            "\u001b[0;31mValueError\u001b[0m: invalid literal for int() with base 10: 'salman'"
          ]
        }
      ]
    },
    {
      "cell_type": "code",
      "source": [
        "try :\n",
        "  num = int(input(\"Enter a number1: \"))\n",
        "  num2 = int(input(\"Enter a number2: \"))\n",
        "  result = num / num2\n",
        "  print(result)\n",
        "except ZeroDivisionError:\n",
        "  print(\"Munga Zero bande nashoo divide kole\")\n",
        "except ValueError:\n",
        "  print(\"Please enter an integer/number\")"
      ],
      "metadata": {
        "colab": {
          "base_uri": "https://localhost:8080/"
        },
        "id": "wN7fvsfZUas4",
        "outputId": "c22508cb-9991-415d-fd7d-89d8909c3d6b"
      },
      "execution_count": null,
      "outputs": [
        {
          "output_type": "stream",
          "name": "stdout",
          "text": [
            "Enter a number1: 1000\n",
            "Enter a number2: 0\n",
            "Munga Zero bande nashoo divide kole\n"
          ]
        }
      ]
    }
  ],
  "metadata": {
    "colab": {
      "provenance": [],
      "authorship_tag": "ABX9TyNyxjQ95RGJGRFvst67XXEN",
      "include_colab_link": true
    },
    "kernelspec": {
      "display_name": "Python 3",
      "name": "python3"
    },
    "language_info": {
      "name": "python"
    }
  },
  "nbformat": 4,
  "nbformat_minor": 0
}