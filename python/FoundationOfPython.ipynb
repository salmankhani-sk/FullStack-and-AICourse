{
  "cells": [
    {
      "cell_type": "code",
      "execution_count": null,
      "metadata": {
        "id": "Lu9lqIKx2tdn"
      },
      "outputs": [],
      "source": []
    },
    {
      "cell_type": "markdown",
      "metadata": {
        "id": "-1lv4VnI2wIx"
      },
      "source": [
        "variables\n",
        "Data type\n",
        "int       whole\n",
        "float     3.3\n",
        "str       \"lkhlkh@123\"\n",
        "bool       true/false"
      ]
    },
    {
      "cell_type": "code",
      "execution_count": null,
      "metadata": {
        "id": "ZGX61iGe271y"
      },
      "outputs": [],
      "source": [
        "name = \"ali\"\n",
        "rollno = 12\n",
        "gpa = 3.2\n",
        "isgraduated = True"
      ]
    },
    {
      "cell_type": "code",
      "execution_count": null,
      "metadata": {
        "colab": {
          "base_uri": "https://localhost:8080/"
        },
        "id": "jAa9j0LS3qPo",
        "outputId": "cde64f53-2786-48c1-d592-695e65628ad4"
      },
      "outputs": [
        {
          "data": {
            "text/plain": [
              "bool"
            ]
          },
          "execution_count": 8,
          "metadata": {},
          "output_type": "execute_result"
        }
      ],
      "source": [
        "type(isgraduated)\n"
      ]
    },
    {
      "cell_type": "code",
      "execution_count": null,
      "metadata": {
        "colab": {
          "base_uri": "https://localhost:8080/"
        },
        "id": "_S-mfPVm3wxk",
        "outputId": "a5c35454-8fc8-4039-b7f4-75b3e6f178c8"
      },
      "outputs": [
        {
          "name": "stdout",
          "output_type": "stream",
          "text": [
            "Hello world\n"
          ]
        }
      ],
      "source": [
        "print(\"Hello world\")"
      ]
    },
    {
      "cell_type": "code",
      "execution_count": null,
      "metadata": {
        "colab": {
          "base_uri": "https://localhost:8080/"
        },
        "id": "CYL-Ch-d4RKZ",
        "outputId": "6909b93b-1441-4245-e516-e56ae9bc25ae"
      },
      "outputs": [
        {
          "name": "stdout",
          "output_type": "stream",
          "text": [
            "enter your namesalman\n",
            "hello salman\n"
          ]
        }
      ],
      "source": [
        "name = input(\"enter your name\")\n",
        "print(\"hello\",name)"
      ]
    },
    {
      "cell_type": "code",
      "execution_count": null,
      "metadata": {
        "colab": {
          "base_uri": "https://localhost:8080/"
        },
        "id": "54RI1gZ04Vw5",
        "outputId": "1a901205-1b83-4d19-b084-ee36d7de409c"
      },
      "outputs": [
        {
          "name": "stdout",
          "output_type": "stream",
          "text": [
            "enter your age17\n",
            "your age is 17\n",
            "you are eligible\n"
          ]
        }
      ],
      "source": [
        "age = int(input(\"enter your age\"))\n",
        "print(\"your age is\",age)\n",
        "nationality = \"pak\"\n",
        "if  nationality != \"pak\":\n",
        "    print(\"you are eligible\")\n",
        "else:\n",
        "    print(\"you are not eligible\")"
      ]
    },
    {
      "cell_type": "markdown",
      "metadata": {
        "id": "nCmSGY8B5huX"
      },
      "source": [
        "# Operators in Python\n",
        "## Arithmetic Operators\n",
        "* + , - , *, / , //\n",
        "# Comparison Operators\n",
        "* == , != , > ,< , >= , <=\\\n",
        "# Logical Operators\n",
        "and , or , not"
      ]
    },
    {
      "cell_type": "code",
      "execution_count": null,
      "metadata": {
        "colab": {
          "base_uri": "https://localhost:8080/"
        },
        "id": "LCTIcA_I5mT6",
        "outputId": "1c42851c-999d-460d-c9a8-22911e2646fb"
      },
      "outputs": [
        {
          "name": "stdout",
          "output_type": "stream",
          "text": [
            "You are not eligible\n"
          ]
        }
      ],
      "source": [
        "age = 101\n",
        "if age >= 18 and age < 100:\n",
        "  print(\"You can vote\")\n",
        "else:\n",
        "  print(\"You are not eligible\")\n"
      ]
    },
    {
      "cell_type": "markdown",
      "metadata": {
        "id": "eUiZJ2y07C9y"
      },
      "source": [
        "# Primitive Data type\n",
        "## Store single data\n",
        "* int\n",
        "* float\n",
        "* str\n",
        "* boolean\n",
        "# Non Primitive Data type\n",
        "## Store multiple data\n",
        "* list\n",
        "### (ordered, mutable)\n",
        "#### fruit= [\"apple\",\"banana\",\"orange\"]\n",
        "#### fruit[0 = apple, 1= banana, 2= orange]\n",
        "#### print(fruit[0]) # apple\n",
        "* tuple\n",
        "### (order, immutable)\n",
        "#### color = (\"red\",\"blue\",\"black\")\n",
        "* set\n",
        "### (unorder, unique)\n",
        "#### nums = {1,2,5,3,9,6,2}\n",
        "* dict\n",
        "#### (key values pairs )\n",
        "##### dict1 = {\"name\":\"ali\",\"rollno\":205\"}\n"
      ]
    },
    {
      "cell_type": "code",
      "execution_count": null,
      "metadata": {
        "colab": {
          "base_uri": "https://localhost:8080/"
        },
        "id": "zB3qDfu_8rbs",
        "outputId": "1cec1049-c824-4c30-d813-9561e269d383"
      },
      "outputs": [
        {
          "output_type": "stream",
          "name": "stdout",
          "text": [
            "[1, 2, 3, 4, 5]\n"
          ]
        }
      ],
      "source": [
        "li = [1,2,3,4,5]\n",
        "print(li)"
      ]
    },
    {
      "cell_type": "code",
      "execution_count": null,
      "metadata": {
        "colab": {
          "base_uri": "https://localhost:8080/"
        },
        "id": "Nfmly9kW-Y5P",
        "outputId": "8f351e40-f520-4697-ab1d-1eff11d15ab0"
      },
      "outputs": [
        {
          "output_type": "stream",
          "name": "stdout",
          "text": [
            "[1, 2, 3, 4, 10]\n"
          ]
        }
      ],
      "source": [
        "li[4] = 10\n",
        "print(li)"
      ]
    },
    {
      "cell_type": "code",
      "execution_count": null,
      "metadata": {
        "colab": {
          "base_uri": "https://localhost:8080/"
        },
        "id": "P8X1pAJh-fPE",
        "outputId": "754b2467-ae6b-4f19-8880-ef0244ac95f4"
      },
      "outputs": [
        {
          "output_type": "stream",
          "name": "stdout",
          "text": [
            "[1, 2, 3, 4, 10, 20]\n"
          ]
        }
      ],
      "source": [
        "li.append(20)\n",
        "print(li)"
      ]
    },
    {
      "cell_type": "code",
      "execution_count": null,
      "metadata": {
        "colab": {
          "base_uri": "https://localhost:8080/"
        },
        "id": "SXko0VWu-rFx",
        "outputId": "6603d4e5-0a01-4ea9-efb9-4179e89b3d52"
      },
      "outputs": [
        {
          "output_type": "stream",
          "name": "stdout",
          "text": [
            "(2, 4, 667, 34, 2)\n"
          ]
        }
      ],
      "source": [
        "tp = (2,4,667,34,2)\n",
        "print(tp)"
      ]
    },
    {
      "cell_type": "code",
      "execution_count": null,
      "metadata": {
        "colab": {
          "base_uri": "https://localhost:8080/",
          "height": 158
        },
        "id": "ugWLISuZ_QlR",
        "outputId": "52efbf19-f4b0-4ac4-cdf2-d584add9a977"
      },
      "outputs": [
        {
          "output_type": "error",
          "ename": "TypeError",
          "evalue": "'tuple' object does not support item assignment",
          "traceback": [
            "\u001b[0;31m---------------------------------------------------------------------------\u001b[0m",
            "\u001b[0;31mTypeError\u001b[0m                                 Traceback (most recent call last)",
            "\u001b[0;32m/tmp/ipython-input-10-3990291478.py\u001b[0m in \u001b[0;36m<cell line: 0>\u001b[0;34m()\u001b[0m\n\u001b[0;32m----> 1\u001b[0;31m \u001b[0mtp\u001b[0m\u001b[0;34m[\u001b[0m\u001b[0;36m0\u001b[0m\u001b[0;34m]\u001b[0m \u001b[0;34m=\u001b[0m \u001b[0;36m10\u001b[0m\u001b[0;34m\u001b[0m\u001b[0;34m\u001b[0m\u001b[0m\n\u001b[0m\u001b[1;32m      2\u001b[0m \u001b[0mprint\u001b[0m\u001b[0;34m(\u001b[0m\u001b[0mtp\u001b[0m\u001b[0;34m)\u001b[0m\u001b[0;34m\u001b[0m\u001b[0;34m\u001b[0m\u001b[0m\n",
            "\u001b[0;31mTypeError\u001b[0m: 'tuple' object does not support item assignment"
          ]
        }
      ],
      "source": [
        "tp[0] = 10\n",
        "print(tp)"
      ]
    },
    {
      "cell_type": "code",
      "execution_count": null,
      "metadata": {
        "colab": {
          "base_uri": "https://localhost:8080/"
        },
        "id": "wyg92cGV_TDF",
        "outputId": "ac4484da-699e-4991-9450-4f06dde6283d"
      },
      "outputs": [
        {
          "output_type": "stream",
          "name": "stdout",
          "text": [
            "{1, 3, 4, 5, 7, 9}\n"
          ]
        }
      ],
      "source": [
        "st = {1 , 3, 5, 7, 3,9,4,7}\n",
        "print(st)"
      ]
    },
    {
      "cell_type": "code",
      "execution_count": null,
      "metadata": {
        "colab": {
          "base_uri": "https://localhost:8080/"
        },
        "id": "lVuwW0eu_wlQ",
        "outputId": "d8caaa47-f5fa-4915-e5a7-d8a80e68710d"
      },
      "outputs": [
        {
          "name": "stdout",
          "output_type": "stream",
          "text": [
            "ali\n"
          ]
        }
      ],
      "source": [
        "dict1 = {\"name\":\"ali\",\"rollno\":205}\n",
        "print(dict1[\"name\"])"
      ]
    },
    {
      "cell_type": "code",
      "execution_count": null,
      "metadata": {
        "colab": {
          "base_uri": "https://localhost:8080/"
        },
        "id": "jWEgOGNcAk9e",
        "outputId": "19381bdb-9209-46a1-ff1d-9759c816b52b"
      },
      "outputs": [
        {
          "output_type": "stream",
          "name": "stdout",
          "text": [
            "{'name': 'salman', 'rollno': 204, 'GPA': 3.13}\n"
          ]
        }
      ],
      "source": [
        "dict1 ={\"001agr2021\":{\"name\":\"ali\",\"rollno\":205},\n",
        "       \"002agr2021\":{\"name\":\"salman\",\"rollno\":204,\"GPA\":3.13}}\n",
        "\n",
        "print(dict1[\"002agr2021\"])"
      ]
    },
    {
      "cell_type": "code",
      "execution_count": null,
      "metadata": {
        "colab": {
          "base_uri": "https://localhost:8080/"
        },
        "id": "t0ngeOxTB2We",
        "outputId": "c812c428-7060-4e3e-e006-01782fafdd5f"
      },
      "outputs": [
        {
          "name": "stdout",
          "output_type": "stream",
          "text": [
            "red\n",
            "green\n",
            "blue\n",
            "black\n"
          ]
        }
      ],
      "source": [
        "colors = [\"red\",\"green\",\"blue\",\"black\"]\n",
        "for i in colors:\n",
        "  print(i)"
      ]
    },
    {
      "cell_type": "code",
      "execution_count": null,
      "metadata": {
        "colab": {
          "base_uri": "https://localhost:8080/"
        },
        "id": "I41fcf3WDALu",
        "outputId": "9f4acb2f-038e-4f94-d0be-52a34a896531"
      },
      "outputs": [
        {
          "name": "stdout",
          "output_type": "stream",
          "text": [
            "2\n",
            "4\n",
            "6\n",
            "8\n",
            "10\n"
          ]
        }
      ],
      "source": [
        "for i in range(2,11,2):\n",
        "  print(i)"
      ]
    },
    {
      "cell_type": "markdown",
      "metadata": {
        "id": "J-vjYykfEbYz"
      },
      "source": [
        "# Loops\n",
        "## to repeat block of code\n",
        "### types of loops in python\n",
        "* for loop\n",
        "#### you know how many time to repeat\n",
        "#### for i in range(1,10-1)\n",
        "* while\n",
        "#### repeat until the condition is true / met\n",
        "#### while condition is true:\n",
        "    print(\"hello world\")"
      ]
    },
    {
      "cell_type": "code",
      "execution_count": null,
      "metadata": {
        "colab": {
          "base_uri": "https://localhost:8080/"
        },
        "id": "owRs-r3cDyon",
        "outputId": "e7f30784-68d8-4925-8da5-b33c751727b4"
      },
      "outputs": [
        {
          "name": "stdout",
          "output_type": "stream",
          "text": [
            "1 Hello world\n",
            "2 Hello world\n",
            "3 Hello world\n",
            "4 Hello world\n",
            "5 Hello world\n",
            "6 Hello world\n",
            "7 Hello world\n",
            "8 Hello world\n",
            "9 Hello world\n"
          ]
        }
      ],
      "source": [
        "for i in range(1,10):\n",
        "  print(i,\"Hello world\")"
      ]
    },
    {
      "cell_type": "code",
      "execution_count": null,
      "metadata": {
        "colab": {
          "base_uri": "https://localhost:8080/"
        },
        "id": "bPB038P2F3Du",
        "outputId": "d52b7ac1-79f3-4577-eab0-055d33b04c79"
      },
      "outputs": [
        {
          "output_type": "stream",
          "name": "stdout",
          "text": [
            "5 Hello world\n",
            "6 Hello world\n",
            "7 Hello world\n",
            "8 Hello world\n",
            "9 Hello world\n",
            "10 Hello world\n"
          ]
        }
      ],
      "source": [
        "count = 5\n",
        "while count <= 10:\n",
        "  print(count,\"Hello world\")\n",
        "  count = count + 1"
      ]
    },
    {
      "cell_type": "code",
      "execution_count": null,
      "metadata": {
        "id": "VT3r-djHGIq7",
        "colab": {
          "base_uri": "https://localhost:8080/"
        },
        "outputId": "653d8016-1c73-4be2-bb7e-492815488634"
      },
      "outputs": [
        {
          "output_type": "stream",
          "name": "stdout",
          "text": [
            "Enter your passwordkhan\n",
            "Incorrect password\n",
            "Enter your passwordkhan\n",
            "Incorrect password\n",
            "Enter your passwordadmin123\n",
            "Correct password\n"
          ]
        }
      ],
      "source": [
        "pas = input(\"Enter your password\")\n",
        "while pas != \"admin123\":\n",
        "  print(\"Incorrect password\")\n",
        "  pas = input(\"Enter your password\")\n",
        "print(\"Correct password\")"
      ]
    },
    {
      "cell_type": "code",
      "source": [
        "attem = 0\n",
        "while attem < 3:\n",
        "  pas = input(\"Enter your password\")\n",
        "  if pas == \"admin123\":\n",
        "    print(\"Correct password\")\n",
        "    break\n",
        "  else:\n",
        "    print(\"Incorrect password\")\n",
        "    attem = attem + 1"
      ],
      "metadata": {
        "colab": {
          "base_uri": "https://localhost:8080/"
        },
        "id": "Zp-uTYXULRdR",
        "outputId": "551898c8-9f58-49eb-803f-ff16d57d47c5"
      },
      "execution_count": null,
      "outputs": [
        {
          "output_type": "stream",
          "name": "stdout",
          "text": [
            "Enter your passwordadmin123\n",
            "Correct password\n"
          ]
        }
      ]
    },
    {
      "cell_type": "code",
      "source": [
        "age = 20\n",
        "if age >= 18:\n",
        "  print(\"You are eligible\")\n",
        "else:\n",
        "  print(\"You are not eligible\")"
      ],
      "metadata": {
        "colab": {
          "base_uri": "https://localhost:8080/"
        },
        "id": "7JPnpkulL2DZ",
        "outputId": "963b0c11-e77f-4ade-c66a-4b429338c316"
      },
      "execution_count": null,
      "outputs": [
        {
          "output_type": "stream",
          "name": "stdout",
          "text": [
            "You are eligible\n"
          ]
        }
      ]
    },
    {
      "cell_type": "code",
      "source": [
        "marks = int(input(\"Enter Your marks\"))\n",
        "if marks >= 60:\n",
        "  print(\"Grade C\")\n",
        "elif marks >= 70:\n",
        "  print(\"Grade B\")\n",
        "elif marks >= 80:\n",
        "  print(\"Grade A\")\n",
        "elif marks >= 50:\n",
        "  print(\"Grade D\")\n",
        "else :\n",
        "  print(\"Grade: Fail\")"
      ],
      "metadata": {
        "colab": {
          "base_uri": "https://localhost:8080/"
        },
        "id": "TwSzM7eTNLzz",
        "outputId": "bac7ffa9-7844-4854-b1d5-be70ce99cb8c"
      },
      "execution_count": null,
      "outputs": [
        {
          "output_type": "stream",
          "name": "stdout",
          "text": [
            "Enter Your marks90\n",
            "Grade C\n"
          ]
        }
      ]
    },
    {
      "cell_type": "code",
      "source": [
        "username = input(\"Enter your username\")\n",
        "password = input(\"Enter your password\")\n",
        "if username == \"admin\" and password == \"admin123\":\n",
        "  print(\"Login successful\")\n",
        "else:\n",
        "  print(\"Login failed\")"
      ],
      "metadata": {
        "colab": {
          "base_uri": "https://localhost:8080/"
        },
        "id": "edXFY3gNNkMN",
        "outputId": "666d2b12-37dc-4143-b040-b2892d0d43bb"
      },
      "execution_count": null,
      "outputs": [
        {
          "output_type": "stream",
          "name": "stdout",
          "text": [
            "Enter your usernameadmin\n",
            "Enter your passwordadmin123\n",
            "Login successful\n"
          ]
        }
      ]
    },
    {
      "cell_type": "code",
      "source": [
        "4 , 1"
      ],
      "metadata": {
        "id": "LE1r9Df6Oqm1"
      },
      "execution_count": null,
      "outputs": []
    }
  ],
  "metadata": {
    "colab": {
      "provenance": []
    },
    "kernelspec": {
      "display_name": "Python 3",
      "name": "python3"
    },
    "language_info": {
      "name": "python"
    }
  },
  "nbformat": 4,
  "nbformat_minor": 0
}