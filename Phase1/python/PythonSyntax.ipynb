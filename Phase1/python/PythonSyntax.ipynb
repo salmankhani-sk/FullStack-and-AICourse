{
  "nbformat": 4,
  "nbformat_minor": 0,
  "metadata": {
    "colab": {
      "provenance": [],
      "authorship_tag": "ABX9TyN4/oVI3ZPQT9vkskbOzock",
      "include_colab_link": true
    },
    "kernelspec": {
      "name": "python3",
      "display_name": "Python 3"
    },
    "language_info": {
      "name": "python"
    }
  },
  "cells": [
    {
      "cell_type": "markdown",
      "metadata": {
        "id": "view-in-github",
        "colab_type": "text"
      },
      "source": [
        "<a href=\"https://colab.research.google.com/github/salmankhani-sk/FullStack-and-AICourse/blob/main/Phase1/python/PythonSyntax.ipynb\" target=\"_parent\"><img src=\"https://colab.research.google.com/assets/colab-badge.svg\" alt=\"Open In Colab\"/></a>"
      ]
    },
    {
      "cell_type": "markdown",
      "source": [
        "#  Python Syntax Guide\n",
        "\n",
        "##  What is Syntax in Python?\n",
        "\n",
        "**Syntax** refers to the **rules** that define how Python code should be written. Python’s syntax is clean, readable, and focuses on simplicity. Unlike many other languages, Python uses **indentation** instead of curly braces `{}` to define blocks.\n",
        "\n",
        "---\n",
        "\n",
        "##  Why is Python Different?\n",
        "\n",
        "| Feature           | Python                           | Other Languages (e.g., C, Java)         |\n",
        "|------------------|----------------------------------|-----------------------------------------|\n",
        "| **Code blocks**   | Indentation                      | Curly braces `{}`                       |\n",
        "| **End of lines**  | Newline                          | Semicolon `;`                           |\n",
        "| **Readability**   | Very high (like English)         | Medium to low                           |\n",
        "| **Syntax length** | Short and clean                  | Longer with more symbols                |\n",
        "\n",
        "---\n",
        "\n",
        "##  Python Basics Syntax Rules\n",
        "\n",
        "### 1. **Indentation is Mandatory**\n",
        "Python uses **indentation (spaces or tabs)** to define code blocks.\n",
        "\n",
        "```python\n",
        "if True:\n",
        "    print(\"This is inside the block\")  # Indented\n",
        "print(\"This is outside\")              # Not indented\n"
      ],
      "metadata": {
        "id": "nC3PBzNO_cJM"
      }
    },
    {
      "cell_type": "code",
      "execution_count": 1,
      "metadata": {
        "colab": {
          "base_uri": "https://localhost:8080/"
        },
        "id": "C5Ep5ta5_ZBs",
        "outputId": "c1aaf6e8-26a5-4315-ea1d-a08999dc9d86"
      },
      "outputs": [
        {
          "output_type": "stream",
          "name": "stdout",
          "text": [
            "red\n",
            "green\n",
            "blue\n",
            "black\n"
          ]
        }
      ],
      "source": [
        "color = [\"red\", \"green\", \"blue\", \"black\"]\n",
        "for salman in color:\n",
        "  print(salman)"
      ]
    },
    {
      "cell_type": "code",
      "source": [
        "for x in range(1,11):\n",
        "  print(\"Hello world\")\n",
        "  z= \"Ihtesham alam\"\n",
        "  y = \"Rayyan\"\n",
        "  print(x)\n",
        "  print(f\"{z} and {y} are classmates\")"
      ],
      "metadata": {
        "colab": {
          "base_uri": "https://localhost:8080/"
        },
        "id": "2i5a9TeW_rZv",
        "outputId": "6afe7230-a3bc-40d1-e3c9-e4a122388643"
      },
      "execution_count": 2,
      "outputs": [
        {
          "output_type": "stream",
          "name": "stdout",
          "text": [
            "Hello world\n",
            "1\n",
            "Ihtesham alam and Rayyan are classmates\n",
            "Hello world\n",
            "2\n",
            "Ihtesham alam and Rayyan are classmates\n",
            "Hello world\n",
            "3\n",
            "Ihtesham alam and Rayyan are classmates\n",
            "Hello world\n",
            "4\n",
            "Ihtesham alam and Rayyan are classmates\n",
            "Hello world\n",
            "5\n",
            "Ihtesham alam and Rayyan are classmates\n",
            "Hello world\n",
            "6\n",
            "Ihtesham alam and Rayyan are classmates\n",
            "Hello world\n",
            "7\n",
            "Ihtesham alam and Rayyan are classmates\n",
            "Hello world\n",
            "8\n",
            "Ihtesham alam and Rayyan are classmates\n",
            "Hello world\n",
            "9\n",
            "Ihtesham alam and Rayyan are classmates\n",
            "Hello world\n",
            "10\n",
            "Ihtesham alam and Rayyan are classmates\n"
          ]
        }
      ]
    },
    {
      "cell_type": "markdown",
      "source": [
        "# Colons (:)\n",
        "A colon is used to start a block (e.g., if, for, while, functions, classes):"
      ],
      "metadata": {
        "id": "Fo2K9iz5_4dp"
      }
    },
    {
      "cell_type": "code",
      "source": [
        "age = 20\n",
        "if age > 18:\n",
        "    print(\"Eligeble\")\n"
      ],
      "metadata": {
        "colab": {
          "base_uri": "https://localhost:8080/"
        },
        "id": "GhrYKgpp_u5L",
        "outputId": "28ae0b7c-b257-43b8-a33e-9a9777a24b8f"
      },
      "execution_count": 4,
      "outputs": [
        {
          "output_type": "stream",
          "name": "stdout",
          "text": [
            "Adult\n"
          ]
        }
      ]
    },
    {
      "cell_type": "markdown",
      "source": [
        "#No Semicolons Required\n",
        "You don’t need semicolons ; at the end of lines. But they can be used optionally:"
      ],
      "metadata": {
        "id": "GYtdS2CHAFzh"
      }
    },
    {
      "cell_type": "code",
      "source": [
        "print(\"Hello\")  # ✅ Recommended\n",
        "print(\"Hello\"); # 😐 Not needed, but works\n"
      ],
      "metadata": {
        "colab": {
          "base_uri": "https://localhost:8080/"
        },
        "id": "dw7qrVhW_8ld",
        "outputId": "65997a5b-6b74-4d4c-f380-202061d91e28"
      },
      "execution_count": 5,
      "outputs": [
        {
          "output_type": "stream",
          "name": "stdout",
          "text": [
            "Hello\n",
            "Hello\n"
          ]
        }
      ]
    },
    {
      "cell_type": "markdown",
      "source": [
        "# Case Sensitivity\n",
        "Python is case-sensitive:"
      ],
      "metadata": {
        "id": "JGrv_Cy3AM3s"
      }
    },
    {
      "cell_type": "code",
      "source": [
        "name = \"Salman\"\n",
        "Name = \"Khan\"\n",
        "\n",
        "print(name)  # Prints: Salman\n",
        "print(Name)  # Prints: Khan\n"
      ],
      "metadata": {
        "colab": {
          "base_uri": "https://localhost:8080/"
        },
        "id": "eEg85OCoAKlN",
        "outputId": "21b64328-19cf-4221-af2e-e7612cd6cc73"
      },
      "execution_count": 6,
      "outputs": [
        {
          "output_type": "stream",
          "name": "stdout",
          "text": [
            "Salman\n",
            "Khan\n"
          ]
        }
      ]
    },
    {
      "cell_type": "markdown",
      "source": [
        "# Comments\n",
        "Use `#` for single-line comments and triple quotes` ''' '''` or` \"\"\" \"\"\" `for multi-line comments.\n",
        "```python\n",
        "  # This is a single-line comment\n",
        "\n",
        "\"\"\"\n",
        "This is a\n",
        "multi-line comment\n",
        "\"\"\"\n",
        "```"
      ],
      "metadata": {
        "id": "wf5RZnxKAT17"
      }
    },
    {
      "cell_type": "markdown",
      "source": [
        " # Variable Naming Rules\n",
        "Start with a letter or underscore\n",
        "\n",
        "No spaces or special characters\n",
        "\n",
        "Case sensitive\n",
        "```python\n",
        "my_name = \"Salman\"\n",
        "_myAge = 22\n",
        "# 2name = \"No\"  Invalid\n",
        "```"
      ],
      "metadata": {
        "id": "4CkU88-0Ak7k"
      }
    },
    {
      "cell_type": "code",
      "source": [],
      "metadata": {
        "id": "N7ALNwgwAQnk"
      },
      "execution_count": null,
      "outputs": []
    }
  ]
}