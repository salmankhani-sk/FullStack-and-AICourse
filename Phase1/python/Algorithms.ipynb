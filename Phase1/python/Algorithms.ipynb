{
  "nbformat": 4,
  "nbformat_minor": 0,
  "metadata": {
    "colab": {
      "provenance": [],
      "authorship_tag": "ABX9TyP5EtsdZ5+wUGUrFue2Uxmo",
      "include_colab_link": true
    },
    "kernelspec": {
      "name": "python3",
      "display_name": "Python 3"
    },
    "language_info": {
      "name": "python"
    }
  },
  "cells": [
    {
      "cell_type": "markdown",
      "metadata": {
        "id": "view-in-github",
        "colab_type": "text"
      },
      "source": [
        "<a href=\"https://colab.research.google.com/github/salmankhani-sk/FullStack-and-AICourse/blob/main/Phase1/python/Algorithms.ipynb\" target=\"_parent\"><img src=\"https://colab.research.google.com/assets/colab-badge.svg\" alt=\"Open In Colab\"/></a>"
      ]
    },
    {
      "cell_type": "markdown",
      "source": [
        "# Algorithms\n",
        "## An algorithm is a step by step set of instruction to solve a specific prob\n",
        "* Problem Solving\n",
        "* AI and Data Science\n",
        "* Interview Preparation"
      ],
      "metadata": {
        "id": "c8p3J4uPby2C"
      }
    },
    {
      "cell_type": "markdown",
      "source": [
        "# Linear Search\n",
        "## One by one elements compare it and when it is found it return the result\n",
        "\n",
        "\n",
        "* start from the first\n",
        "* compare target elements\n",
        "* found return result\n",
        "* if not found than i willmove to the next element\n",
        "* repeat until end of the list"
      ],
      "metadata": {
        "id": "bM0dpjmYfaUq"
      }
    },
    {
      "cell_type": "code",
      "execution_count": 12,
      "metadata": {
        "colab": {
          "base_uri": "https://localhost:8080/"
        },
        "id": "rGvw5CxCbw8L",
        "outputId": "8ab14308-a69f-45c3-d29b-e23210839332"
      },
      "outputs": [
        {
          "output_type": "stream",
          "name": "stdout",
          "text": [
            "Enter name u want to search: ijaz\n",
            "ijaz found at index 3\n"
          ]
        }
      ],
      "source": [
        "names = [\"alam\",\"taif\",\"afridi\",\"ijaz\",\"tehseen\"]\n",
        "search_name = input(\"Enter name u want to search: \")\n",
        "def linear_search(data, target):\n",
        "  for i in range(0,len(data)):\n",
        "    if data[i] == target:\n",
        "      return i\n",
        "  return -1\n",
        "salman = linear_search(names,search_name)\n",
        "if salman != -1:\n",
        "  print(f\"{search_name} found at index {salman}\")\n",
        "else:\n",
        "  print(f\"{search_name} not found\")"
      ]
    },
    {
      "cell_type": "markdown",
      "source": [
        "# Binary Search\n",
        "## efficient algorithm for finding an elements in a sorted list by repeatedly diving the search space in half\n",
        "# Psedu Code\n",
        "## Steps:\n",
        "* num = [1,2,3,4,5,6]\n",
        "* left = 0 ,right =  len(num) - 1\n",
        "* mid = (lef + right) // 2\n",
        "## Checks\n",
        "* if target == list[mid]\n",
        "* if target < list[mid] ---> search left\n",
        "* if target > list[mid] ----> search right\n",
        "* repeat steps until fount"
      ],
      "metadata": {
        "id": "YI6HF471Iar8"
      }
    },
    {
      "cell_type": "code",
      "source": [
        "def binary_search(arr, target):\n",
        "    left = 0\n",
        "    right = len(arr) - 1\n",
        "    while left <= right:\n",
        "        mid = (left + right) // 2\n",
        "        if arr[mid] == target:\n",
        "            return mid\n",
        "        elif arr[mid] < target:\n",
        "            left = mid - 1\n",
        "        else:\n",
        "            right = mid + 1"
      ],
      "metadata": {
        "id": "Alo-loDohyUQ"
      },
      "execution_count": null,
      "outputs": []
    },
    {
      "cell_type": "code",
      "source": [
        "nums = [2,4,5,8,9,11,24]\n",
        "target = int(input(\"Enter the number u want to search: \"))\n",
        "result = binary_search(nums,target)\n",
        "if result != -1:\n",
        "  print(f\"{target} found at index {result}\")\n",
        "else:\n",
        "  print(f\"{target} not found\")"
      ],
      "metadata": {
        "colab": {
          "base_uri": "https://localhost:8080/"
        },
        "id": "JG7FxRLtM4fl",
        "outputId": "e089fe93-8597-44c8-bbcd-2cb88ca26038"
      },
      "execution_count": null,
      "outputs": [
        {
          "output_type": "stream",
          "name": "stdout",
          "text": [
            "Enter the number u want to search: 4\n",
            "4 found at index 1\n"
          ]
        }
      ]
    },
    {
      "cell_type": "code",
      "source": [
        "num1 = 7\n",
        "num2 = 2\n",
        "print(num1/num2)\n",
        "print(num1//num2)"
      ],
      "metadata": {
        "colab": {
          "base_uri": "https://localhost:8080/"
        },
        "id": "xRi5NYtRSD61",
        "outputId": "666e4a62-5fbe-4eca-af0f-f2a34368be3a"
      },
      "execution_count": null,
      "outputs": [
        {
          "output_type": "stream",
          "name": "stdout",
          "text": [
            "3.5\n",
            "3\n"
          ]
        }
      ]
    },
    {
      "cell_type": "markdown",
      "source": [
        "# Bubble Sort Algorithm\n",
        "## Sorting means arranging data in particular order , typically in ascending or decending order\n",
        "## buble sort compare each pair of adjucent elements and swaps them if they are wrong order\n",
        "# Steps\n",
        "* nums = [4,2,1,3]\n",
        "## Round1\n",
        "* compare 4 and 2 ----> Swap ----> [2,\"4\",1,3]\n",
        "* compare 4 and 1 ----> Swap ----> [2,1,\"4\",3]\n",
        "* compare 4 and 3 ----> Swap ----> [2,1,3,'4']\n",
        "* compare 2 and 1 ----> Swap ----> [1,\"2\",3,'4']\n",
        "* compare 2 and 3 ----> Swap ----> [1,\"2\",3,'4']\n",
        "* compare 3 and 4 ----> Swap ----> [1,\"2\",3,'4']"
      ],
      "metadata": {
        "id": "fTwRrob6F-EA"
      }
    },
    {
      "cell_type": "code",
      "source": [
        "nums = [7,1,4,6,8,3,22,2]\n",
        "print(\"Unsorted list\",nums)\n",
        "def bbl_sort(nums):\n",
        "  n = len(nums)\n",
        "  for i in range(n):\n",
        "    for j in range(n-i-1):\n",
        "      if nums[j] >nums[j+1]: # 7&1 --->swap\n",
        "        nums[j] , nums[j+1] = nums[j+1] , nums[j]\n",
        "  return nums\n",
        "sa = bbl_sort(nums)\n",
        "print(\"Sorted List\",sa)"
      ],
      "metadata": {
        "colab": {
          "base_uri": "https://localhost:8080/"
        },
        "id": "fV6ub9TdHtDb",
        "outputId": "54c792e2-86e6-46f9-aada-94b15de2889d"
      },
      "execution_count": null,
      "outputs": [
        {
          "output_type": "stream",
          "name": "stdout",
          "text": [
            "Unsorted list [7, 1, 4, 6, 8, 3, 22, 2]\n",
            "Sorted List [1, 2, 3, 4, 6, 7, 8, 22]\n"
          ]
        }
      ]
    },
    {
      "cell_type": "code",
      "source": [
        "print(len(nums))"
      ],
      "metadata": {
        "colab": {
          "base_uri": "https://localhost:8080/"
        },
        "id": "8-P6Dm3oT_Wj",
        "outputId": "ccee7ebe-f42a-4671-c859-e822e4cfef4f"
      },
      "execution_count": null,
      "outputs": [
        {
          "output_type": "stream",
          "name": "stdout",
          "text": [
            "8\n"
          ]
        }
      ]
    },
    {
      "cell_type": "code",
      "source": [
        "a = [\"a\",\"A\",\"b\",\"C\"] # A,a,b,C\n",
        "print(sorted(a))"
      ],
      "metadata": {
        "id": "Sf9eAWPSUunr",
        "colab": {
          "base_uri": "https://localhost:8080/"
        },
        "outputId": "42440088-fca5-4624-dce9-84300a9faefd"
      },
      "execution_count": null,
      "outputs": [
        {
          "output_type": "stream",
          "name": "stdout",
          "text": [
            "['A', 'C', 'a', 'b']\n"
          ]
        }
      ]
    },
    {
      "cell_type": "code",
      "source": [
        "names = [\"salman\",\"khani\",\"alam\",\"tehseen\",\"taif\"]\n",
        "print(\"Unsorted list\",names)\n",
        "def bublle_sort(names):\n",
        "  n = len(names)\n",
        "  for i in range(n):\n",
        "    for j in range(n-i-1):\n",
        "      if names[j][0] > names[j+1][0]:\n",
        "        names[j] , names[j+1] = names[j+1] , names[j]\n",
        "  return names\n",
        "sa = bublle_sort(names)\n",
        "print(\"Sorted List\",sa)"
      ],
      "metadata": {
        "colab": {
          "base_uri": "https://localhost:8080/"
        },
        "id": "fFUubuW1QC2v",
        "outputId": "13e1b192-0411-43ce-88e0-ba8d0608fe72"
      },
      "execution_count": null,
      "outputs": [
        {
          "output_type": "stream",
          "name": "stdout",
          "text": [
            "Unsorted list ['salman', 'khani', 'alam', 'tehseen', 'taif']\n",
            "Sorted List ['alam', 'khani', 'salman', 'tehseen', 'taif']\n"
          ]
        }
      ]
    },
    {
      "cell_type": "markdown",
      "source": [
        "# Selection Sort\n",
        "* finds smalllest element descending\n",
        "* finds largest element assending\n",
        "* put in the correct ----> swap\n",
        "```python\n",
        "    arr = [5,8,3,1]\n",
        "```\n",
        "# Steps\n",
        "* step 1 (Smallest value)---> 1\n",
        "* swap 1 swap 5 ----> ['1',8,3,5]\n",
        "* step 2 : (smallest value) --->3\n",
        "* swap 3  with 8 ----> ['1','3',8,5]\n",
        "* step 3 :     \n",
        "* swap 8 with 5-----> ['1','3','5','8']\n",
        "```python\n",
        "    arr = [1,2,5,8]\n",
        "```"
      ],
      "metadata": {
        "id": "ZCThMQKUef9p"
      }
    },
    {
      "cell_type": "code",
      "source": [
        "nums = [5,3,8,1,2]\n",
        "def selection(nums):\n",
        "  n = len(nums)\n",
        "  for i in  range(n):\n",
        "    min_index = i\n",
        "    for j in range(i +1,n):\n",
        "      if nums[j] < nums[min_index]:\n",
        "        min_index = j\n",
        "    nums[i],nums[min_index] = nums[min_index],nums[i]\n",
        "  return nums\n",
        "sa = selection(nums)\n",
        "print(sa)"
      ],
      "metadata": {
        "colab": {
          "base_uri": "https://localhost:8080/"
        },
        "id": "GDx_GPBng8Ti",
        "outputId": "868fcb2e-1094-478c-cd27-31db5949493e"
      },
      "execution_count": null,
      "outputs": [
        {
          "output_type": "stream",
          "name": "stdout",
          "text": [
            "[1, 2, 3, 5, 8]\n"
          ]
        }
      ]
    },
    {
      "cell_type": "markdown",
      "source": [
        "# Recursion\n",
        "## is when function itself"
      ],
      "metadata": {
        "id": "Z5TJKo9Di2NG"
      }
    },
    {
      "cell_type": "code",
      "source": [
        "def coundown(n):\n",
        "  if n== 0:\n",
        "    print(\"Stoped the countdownd\")\n",
        "  else:\n",
        "    print(n)\n",
        "    coundown(n-1)\n",
        "coundown(5)"
      ],
      "metadata": {
        "colab": {
          "base_uri": "https://localhost:8080/"
        },
        "id": "Ua6rk945j4BJ",
        "outputId": "f3e376b0-75cb-463c-e2b0-5ef2f40610c6"
      },
      "execution_count": null,
      "outputs": [
        {
          "output_type": "stream",
          "name": "stdout",
          "text": [
            "5\n",
            "4\n",
            "3\n",
            "2\n",
            "1\n",
            "Stoped the countdownd\n"
          ]
        }
      ]
    },
    {
      "cell_type": "markdown",
      "source": [
        "# 5  FACTORIAL RECURSION\n",
        "## 5!\n",
        "### 5x4x3x2x1 = 120"
      ],
      "metadata": {
        "id": "eydGEzCrlxax"
      }
    },
    {
      "cell_type": "code",
      "source": [
        "def fact(n):\n",
        "  if n == 0:\n",
        "    return 1\n",
        "  else :\n",
        "    return n* fact(n-1)\n",
        "print(fact(5))"
      ],
      "metadata": {
        "colab": {
          "base_uri": "https://localhost:8080/"
        },
        "id": "XcAD5h9JkXor",
        "outputId": "2e26e9a9-e091-4679-b036-6f3d4d9b2992"
      },
      "execution_count": null,
      "outputs": [
        {
          "output_type": "stream",
          "name": "stdout",
          "text": [
            "120\n"
          ]
        }
      ]
    },
    {
      "cell_type": "markdown",
      "source": [
        "# Fabnoncci Series\n",
        "(0)\n",
        "1\n",
        "1\n",
        "2\n",
        "3\n",
        "5\n",
        "8\n",
        "13\n",
        "21\n",
        "34\n",
        "55\n",
        "89\n",
        "144\n",
        "233\n",
        "377\n",
        "610\n",
        "987\n",
        "1597\n",
        "2584\n",
        "4181\n",
        "6765\n",
        "10946\n",
        "17711\n",
        "28657\n",
        "46368\n",
        "75025\n",
        "121393\n",
        "196418\n",
        "317811\n",
        "514229"
      ],
      "metadata": {
        "id": "jcbqHUiEcbqW"
      }
    },
    {
      "cell_type": "code",
      "source": [
        "def fib(n):\n",
        "  if n == 0:\n",
        "    return 0\n",
        "  if n == 1:\n",
        "    return 1\n",
        "  else:\n",
        "\n",
        "    return fib(n-1)  + fib(n-2) # 8 + 5 = 13\n",
        "print(fib(7))\n"
      ],
      "metadata": {
        "colab": {
          "base_uri": "https://localhost:8080/"
        },
        "id": "lQxz06LFmY26",
        "outputId": "b9d867c5-eafc-4c20-d7de-a55263ef3ea6"
      },
      "execution_count": 11,
      "outputs": [
        {
          "output_type": "stream",
          "name": "stdout",
          "text": [
            "13\n"
          ]
        }
      ]
    },
    {
      "cell_type": "markdown",
      "source": [],
      "metadata": {
        "id": "2PWcOGSerpAN"
      }
    }
  ]
}