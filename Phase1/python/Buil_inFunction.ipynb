{
  "nbformat": 4,
  "nbformat_minor": 0,
  "metadata": {
    "colab": {
      "provenance": [],
      "authorship_tag": "ABX9TyP3dQOKYtxnv7tRwwhWRXir",
      "include_colab_link": true
    },
    "kernelspec": {
      "name": "python3",
      "display_name": "Python 3"
    },
    "language_info": {
      "name": "python"
    }
  },
  "cells": [
    {
      "cell_type": "markdown",
      "metadata": {
        "id": "view-in-github",
        "colab_type": "text"
      },
      "source": [
        "<a href=\"https://colab.research.google.com/github/salmankhani-sk/FullStack-and-AICourse/blob/main/Phase1/python/Buil_inFunction.ipynb\" target=\"_parent\"><img src=\"https://colab.research.google.com/assets/colab-badge.svg\" alt=\"Open In Colab\"/></a>"
      ]
    },
    {
      "cell_type": "markdown",
      "source": [
        "#  Built-in Functions in Python\n",
        "\n",
        "## What are Built-in Functions?\n",
        "\n",
        "Built-in functions are **predefined functions** provided by Python. You can use them **without importing any library**. These functions help you perform common tasks like:\n",
        "\n",
        "- Type conversion\n",
        "- Math operations\n",
        "- Working with data structures\n",
        "- Input/output operations\n",
        "\n",
        "---\n",
        "\n",
        "##  Common Built-in Functions\n",
        "\n",
        "| Function      | Description                                 |\n",
        "|---------------|---------------------------------------------|\n",
        "| `print()`     | Displays output on the screen               |\n",
        "| `input()`     | Takes user input                            |\n",
        "| `len()`       | Returns the length of an object             |\n",
        "| `type()`      | Returns the data type of a value            |\n",
        "| `int()`       | Converts value to integer                   |\n",
        "| `float()`     | Converts value to float                     |\n",
        "| `str()`       | Converts value to string                    |\n",
        "| `list()`      | Converts to a list                          |\n",
        "| `dict()`      | Creates a dictionary                        |\n",
        "| `sum()`       | Adds all values in an iterable              |\n",
        "| `max()`       | Returns the maximum value                   |\n",
        "| `min()`       | Returns the minimum value                   |\n",
        "| `sorted()`    | Returns a sorted list                       |\n",
        "| `range()`     | Generates a sequence of numbers             |\n",
        "| `abs()`       | Returns absolute value                      |\n",
        "| `round()`     | Rounds a number                             |\n",
        "| `zip()`       | Combines multiple iterables into tuples     |\n",
        "| `enumerate()` | Returns index and value pairs from iterable |\n",
        "\n",
        "---\n",
        "\n",
        "##  Example\n",
        "\n",
        "```python\n",
        "numbers = [10, 20, 30]\n",
        "print(\"Total:\", sum(numbers))       # Output: Total: 60\n",
        "print(\"Max:\", max(numbers))         # Output: Max: 30\n",
        "print(\"Length:\", len(numbers))      # Output: Length: 3\n"
      ],
      "metadata": {
        "id": "n_LVoYiB-bR-"
      }
    },
    {
      "cell_type": "code",
      "source": [],
      "metadata": {
        "id": "-aFaSGC3-awE"
      },
      "execution_count": null,
      "outputs": []
    },
    {
      "cell_type": "markdown",
      "source": [
        "# Build in function of int()"
      ],
      "metadata": {
        "id": "SRN1JZBVWeT2"
      }
    },
    {
      "cell_type": "code",
      "source": [
        "x = \"123\"\n",
        "x = int(x)\n"
      ],
      "metadata": {
        "id": "bbwLOylOnRzE"
      },
      "execution_count": null,
      "outputs": []
    },
    {
      "cell_type": "markdown",
      "source": [
        "#  type() Function in Python\n",
        "\n",
        "##  What is `type()`?\n",
        "\n",
        "The `type()` function in Python is a built-in function used to **check the data type** of any variable or value.\n",
        "\n",
        "---\n",
        "\n",
        "##  Syntax\n",
        "\n",
        "```python\n",
        "type(variable_name)\n"
      ],
      "metadata": {
        "id": "wztpNIhFnd7d"
      }
    },
    {
      "cell_type": "code",
      "source": [
        "a = 5\n",
        "b = \"Hello\"\n",
        "c = 3.14\n",
        "d = True\n",
        "e = [1, 2, 3]\n",
        "\n",
        "print(type(a))  # <class 'int'>\n",
        "print(type(b))  # <class 'str'>\n",
        "print(type(c))  # <class 'float'>\n",
        "print(type(d))  # <class 'bool'>\n",
        "print(type(e))  # <class 'list'>\n"
      ],
      "metadata": {
        "colab": {
          "base_uri": "https://localhost:8080/"
        },
        "id": "5q2uh8uE-2PI",
        "outputId": "2b9c34b3-e31a-4e68-a58f-44a8ed3d198c"
      },
      "execution_count": 1,
      "outputs": [
        {
          "output_type": "stream",
          "name": "stdout",
          "text": [
            "<class 'int'>\n",
            "<class 'str'>\n",
            "<class 'float'>\n",
            "<class 'bool'>\n",
            "<class 'list'>\n"
          ]
        }
      ]
    },
    {
      "cell_type": "code",
      "source": [
        "print(type(x))"
      ],
      "metadata": {
        "colab": {
          "base_uri": "https://localhost:8080/"
        },
        "id": "r37as40rnYJx",
        "outputId": "ef113c75-66b5-489d-86a8-1415116bde47"
      },
      "execution_count": null,
      "outputs": [
        {
          "output_type": "stream",
          "name": "stdout",
          "text": [
            "<class 'int'>\n"
          ]
        }
      ]
    },
    {
      "cell_type": "code",
      "source": [
        "y = \"salman\"\n",
        "y = int(y)\n",
        "print(y)"
      ],
      "metadata": {
        "colab": {
          "base_uri": "https://localhost:8080/",
          "height": 176
        },
        "id": "vYcTYJhdnjYx",
        "outputId": "7572684f-e93d-4fa9-f62f-26a14fffb624"
      },
      "execution_count": null,
      "outputs": [
        {
          "output_type": "error",
          "ename": "ValueError",
          "evalue": "invalid literal for int() with base 10: 'salman'",
          "traceback": [
            "\u001b[0;31m---------------------------------------------------------------------------\u001b[0m",
            "\u001b[0;31mValueError\u001b[0m                                Traceback (most recent call last)",
            "\u001b[0;32m/tmp/ipython-input-14-3001433608.py\u001b[0m in \u001b[0;36m<cell line: 0>\u001b[0;34m()\u001b[0m\n\u001b[1;32m      1\u001b[0m \u001b[0my\u001b[0m \u001b[0;34m=\u001b[0m \u001b[0;34m\"salman\"\u001b[0m\u001b[0;34m\u001b[0m\u001b[0;34m\u001b[0m\u001b[0m\n\u001b[0;32m----> 2\u001b[0;31m \u001b[0my\u001b[0m \u001b[0;34m=\u001b[0m \u001b[0mint\u001b[0m\u001b[0;34m(\u001b[0m\u001b[0my\u001b[0m\u001b[0;34m)\u001b[0m\u001b[0;34m\u001b[0m\u001b[0;34m\u001b[0m\u001b[0m\n\u001b[0m\u001b[1;32m      3\u001b[0m \u001b[0mprint\u001b[0m\u001b[0;34m(\u001b[0m\u001b[0my\u001b[0m\u001b[0;34m)\u001b[0m\u001b[0;34m\u001b[0m\u001b[0;34m\u001b[0m\u001b[0m\n",
            "\u001b[0;31mValueError\u001b[0m: invalid literal for int() with base 10: 'salman'"
          ]
        }
      ]
    },
    {
      "cell_type": "code",
      "source": [
        "y = \"12.5\"\n",
        "y = float(y)\n",
        "print(type(y))"
      ],
      "metadata": {
        "colab": {
          "base_uri": "https://localhost:8080/"
        },
        "id": "u1IBV78fnvZX",
        "outputId": "4d2ddc6c-1865-441d-ab42-2c4169b048e4"
      },
      "execution_count": null,
      "outputs": [
        {
          "output_type": "stream",
          "name": "stdout",
          "text": [
            "<class 'float'>\n"
          ]
        }
      ]
    },
    {
      "cell_type": "code",
      "source": [
        "z = 1234\n",
        "z = str(z)\n",
        "print(type(z))"
      ],
      "metadata": {
        "colab": {
          "base_uri": "https://localhost:8080/"
        },
        "id": "2-MKJg6On1H6",
        "outputId": "9a79e701-198a-4888-ce52-cda48f586a98"
      },
      "execution_count": null,
      "outputs": [
        {
          "output_type": "stream",
          "name": "stdout",
          "text": [
            "<class 'str'>\n"
          ]
        }
      ]
    },
    {
      "cell_type": "code",
      "source": [
        "name = \"Tayyaba\"\n",
        "print(len(name))"
      ],
      "metadata": {
        "colab": {
          "base_uri": "https://localhost:8080/"
        },
        "id": "nA1kGOgJn84T",
        "outputId": "175a0635-a93b-4cbe-ee6a-6af2d38bde18"
      },
      "execution_count": null,
      "outputs": [
        {
          "output_type": "stream",
          "name": "stdout",
          "text": [
            "7\n"
          ]
        }
      ]
    },
    {
      "cell_type": "code",
      "source": [
        "names = [\"urooj\",\"tayyaba\",\"salman\"]\n",
        "print(len(names))"
      ],
      "metadata": {
        "colab": {
          "base_uri": "https://localhost:8080/"
        },
        "id": "N9ABGbB_oCs0",
        "outputId": "3ec13c57-21a3-411f-fda3-c3c51ded5cad"
      },
      "execution_count": null,
      "outputs": [
        {
          "output_type": "stream",
          "name": "stdout",
          "text": [
            "3\n"
          ]
        }
      ]
    },
    {
      "cell_type": "code",
      "source": [
        "x = \"hello\"\n",
        "print(list(x))"
      ],
      "metadata": {
        "colab": {
          "base_uri": "https://localhost:8080/"
        },
        "id": "jOE3l1ddoQpo",
        "outputId": "1cd4d327-7565-4a8a-ab0d-636bbe39c2b4"
      },
      "execution_count": null,
      "outputs": [
        {
          "output_type": "stream",
          "name": "stdout",
          "text": [
            "['h', 'e', 'l', 'l', 'o']\n"
          ]
        }
      ]
    },
    {
      "cell_type": "code",
      "source": [
        "name = \"Salman Khan\"\n",
        "print(list(name))"
      ],
      "metadata": {
        "colab": {
          "base_uri": "https://localhost:8080/"
        },
        "id": "2x543sS8ode1",
        "outputId": "f2a60b51-8b15-4784-d87f-37268b94ef37"
      },
      "execution_count": null,
      "outputs": [
        {
          "output_type": "stream",
          "name": "stdout",
          "text": [
            "['S', 'a', 'l', 'm', 'a', 'n', ' ', 'K', 'h', 'a', 'n']\n"
          ]
        }
      ]
    },
    {
      "cell_type": "code",
      "source": [
        "nums = [2,3,5,2,3]\n",
        "print(nums)\n"
      ],
      "metadata": {
        "colab": {
          "base_uri": "https://localhost:8080/"
        },
        "id": "Mf_XtpYkojfS",
        "outputId": "caeffcf6-2cc6-4db2-f897-2e6726b06933"
      },
      "execution_count": null,
      "outputs": [
        {
          "output_type": "stream",
          "name": "stdout",
          "text": [
            "[2, 3, 5, 2, 3]\n"
          ]
        }
      ]
    },
    {
      "cell_type": "code",
      "source": [
        "nums = set(nums)\n",
        "print(nums)"
      ],
      "metadata": {
        "colab": {
          "base_uri": "https://localhost:8080/"
        },
        "id": "kT5guAi8otP-",
        "outputId": "04e80a9c-1913-4f39-9972-b927372368ba"
      },
      "execution_count": null,
      "outputs": [
        {
          "output_type": "stream",
          "name": "stdout",
          "text": [
            "{2, 3, 5}\n"
          ]
        }
      ]
    },
    {
      "cell_type": "markdown",
      "source": [
        "Syntax"
      ],
      "metadata": {
        "id": "wSUkkQ7NLJi2"
      }
    },
    {
      "cell_type": "code",
      "source": [
        "color = [\"red\", \"green\", \"blue\", \"black\"]\n",
        "for salman in color:\n",
        "  print(salman)"
      ],
      "metadata": {
        "id": "iioG9-xtov3t",
        "colab": {
          "base_uri": "https://localhost:8080/"
        },
        "outputId": "552b3e4e-48ef-4109-e511-929aa08cd66c"
      },
      "execution_count": null,
      "outputs": [
        {
          "output_type": "stream",
          "name": "stdout",
          "text": [
            "red\n",
            "green\n",
            "blue\n",
            "black\n"
          ]
        }
      ]
    },
    {
      "cell_type": "code",
      "source": [
        "for x in range(1,11):\n",
        "  print(\"Hello world\")\n",
        "  z= \"Ihtesham alam\"\n",
        "  y = \"Rayyan\"\n",
        "  print(x)\n",
        "  print(f\"{z} and {y} are classmates\")"
      ],
      "metadata": {
        "colab": {
          "base_uri": "https://localhost:8080/"
        },
        "id": "fQtG7SujPYuP",
        "outputId": "450accd9-2011-45c7-98e2-5082c8a86d51"
      },
      "execution_count": null,
      "outputs": [
        {
          "output_type": "stream",
          "name": "stdout",
          "text": [
            "Hello world\n",
            "1\n",
            "Ihtesham alam and Rayyan are classmates\n",
            "Hello world\n",
            "2\n",
            "Ihtesham alam and Rayyan are classmates\n",
            "Hello world\n",
            "3\n",
            "Ihtesham alam and Rayyan are classmates\n",
            "Hello world\n",
            "4\n",
            "Ihtesham alam and Rayyan are classmates\n",
            "Hello world\n",
            "5\n",
            "Ihtesham alam and Rayyan are classmates\n",
            "Hello world\n",
            "6\n",
            "Ihtesham alam and Rayyan are classmates\n",
            "Hello world\n",
            "7\n",
            "Ihtesham alam and Rayyan are classmates\n",
            "Hello world\n",
            "8\n",
            "Ihtesham alam and Rayyan are classmates\n",
            "Hello world\n",
            "9\n",
            "Ihtesham alam and Rayyan are classmates\n",
            "Hello world\n",
            "10\n",
            "Ihtesham alam and Rayyan are classmates\n"
          ]
        }
      ]
    },
    {
      "cell_type": "code",
      "source": [
        "salman = \"Salman Khan\"\n",
        "for i in range(10):\n",
        "  print(salman)"
      ],
      "metadata": {
        "colab": {
          "base_uri": "https://localhost:8080/"
        },
        "id": "LkiUYQL7Pulc",
        "outputId": "2d2f335e-26e1-4dac-c01b-3543a6d1ec5f"
      },
      "execution_count": null,
      "outputs": [
        {
          "output_type": "stream",
          "name": "stdout",
          "text": [
            "Salman Khan\n",
            "Salman Khan\n",
            "Salman Khan\n",
            "Salman Khan\n",
            "Salman Khan\n",
            "Salman Khan\n",
            "Salman Khan\n",
            "Salman Khan\n",
            "Salman Khan\n",
            "Salman Khan\n"
          ]
        }
      ]
    },
    {
      "cell_type": "code",
      "source": [
        "name = \"Ihtesham\"\n",
        "name2 = \"rayyan\"\n",
        "for i in range(5):\n",
        "  print(f\"Today {name} and {name2} are attending class\")"
      ],
      "metadata": {
        "colab": {
          "base_uri": "https://localhost:8080/"
        },
        "id": "yAulu2zLP4u1",
        "outputId": "8d990205-38c9-4295-d3cf-ae7ead20f239"
      },
      "execution_count": null,
      "outputs": [
        {
          "output_type": "stream",
          "name": "stdout",
          "text": [
            "Today Ihtesham and rayyan are attending class\n",
            "Today Ihtesham and rayyan are attending class\n",
            "Today Ihtesham and rayyan are attending class\n",
            "Today Ihtesham and rayyan are attending class\n",
            "Today Ihtesham and rayyan are attending class\n"
          ]
        }
      ]
    },
    {
      "cell_type": "code",
      "source": [
        "for i in range(1,)"
      ],
      "metadata": {
        "colab": {
          "base_uri": "https://localhost:8080/"
        },
        "id": "7uEKF4dpRhTU",
        "outputId": "a3c4eb5f-ae5c-4880-bcae-51b40ee61ab1"
      },
      "execution_count": null,
      "outputs": [
        {
          "output_type": "stream",
          "name": "stdout",
          "text": [
            "range(1, 5)\n"
          ]
        }
      ]
    },
    {
      "cell_type": "code",
      "source": [
        "li = [1,2,3,4]\n",
        "for i in li:\n",
        "  print(\"Hello world\")"
      ],
      "metadata": {
        "colab": {
          "base_uri": "https://localhost:8080/"
        },
        "id": "ucnc3rGhR0WJ",
        "outputId": "403a8a3d-b44d-48b1-eb20-fd4504e41c6c"
      },
      "execution_count": null,
      "outputs": [
        {
          "output_type": "stream",
          "name": "stdout",
          "text": [
            "Hello world\n",
            "Hello world\n",
            "Hello world\n",
            "Hello world\n"
          ]
        }
      ]
    },
    {
      "cell_type": "code",
      "source": [
        "for i in range(1,11):\n",
        "  print(\"2 X \",i,\" = \",i*2)\n"
      ],
      "metadata": {
        "colab": {
          "base_uri": "https://localhost:8080/"
        },
        "id": "U1Xujk9zR-Cm",
        "outputId": "61d2f5e9-6a7d-40a8-cd90-0e9be1dfc37a"
      },
      "execution_count": null,
      "outputs": [
        {
          "output_type": "stream",
          "name": "stdout",
          "text": [
            "2 X  1  =  2\n",
            "2 X  2  =  4\n",
            "2 X  3  =  6\n",
            "2 X  4  =  8\n",
            "2 X  5  =  10\n",
            "2 X  6  =  12\n",
            "2 X  7  =  14\n",
            "2 X  8  =  16\n",
            "2 X  9  =  18\n",
            "2 X  10  =  20\n"
          ]
        }
      ]
    },
    {
      "cell_type": "code",
      "source": [
        "for i in range(1,11):\n",
        "  print(f\"2 X {i} = {i*2}\")"
      ],
      "metadata": {
        "colab": {
          "base_uri": "https://localhost:8080/"
        },
        "id": "WFZ99UHYUeCa",
        "outputId": "2d299fac-041d-4f7b-c5bb-987a98905909"
      },
      "execution_count": null,
      "outputs": [
        {
          "output_type": "stream",
          "name": "stdout",
          "text": [
            "2 X 1 = 2\n",
            "2 X 2 = 4\n",
            "2 X 3 = 6\n",
            "2 X 4 = 8\n",
            "2 X 5 = 10\n",
            "2 X 6 = 12\n",
            "2 X 7 = 14\n",
            "2 X 8 = 16\n",
            "2 X 9 = 18\n",
            "2 X 10 = 20\n"
          ]
        }
      ]
    },
    {
      "cell_type": "markdown",
      "source": [
        "#  What is `map()` in Python?\n",
        "\n",
        "##  Purpose\n",
        "The `map()` function is used to **apply a function to every item** in an iterable like a **list**, **tuple**, or **set**, and returns a new **map object** (which can be converted into a list, etc.).\n",
        "\n",
        "It's perfect for **clean and efficient looping** when you want to apply the **same function** to multiple items.\n",
        "\n",
        "---\n",
        "\n",
        "##  Syntax\n",
        "\n",
        "```python\n",
        "map(function, iterable)\n"
      ],
      "metadata": {
        "id": "Wq_fYKhvR41-"
      }
    },
    {
      "cell_type": "code",
      "source": [
        "def add_five(x):\n",
        "  return x+5\n",
        "num = [2,4,6,8]\n",
        "result = map(add_five,num)\n",
        "print(list(result))"
      ],
      "metadata": {
        "id": "D7KUqLauUyBh",
        "colab": {
          "base_uri": "https://localhost:8080/"
        },
        "outputId": "d5222eff-3fe3-404e-a314-77004e3d464e"
      },
      "execution_count": null,
      "outputs": [
        {
          "output_type": "stream",
          "name": "stdout",
          "text": [
            "[7, 9, 11, 13]\n"
          ]
        }
      ]
    },
    {
      "cell_type": "markdown",
      "source": [
        "#  What is `filter()` in Python?\n",
        "\n",
        "## Purpose\n",
        "The `filter()` function is used to **filter out elements** from an iterable (like a list, tuple, etc.) **based on a condition**. It returns only those elements for which the condition is **True**.\n",
        "\n",
        "---\n",
        "\n",
        "## Syntax\n",
        "\n",
        "```python\n",
        "filter(function, iterable)\n"
      ],
      "metadata": {
        "id": "QQJbiVq0Tlxs"
      }
    },
    {
      "cell_type": "code",
      "source": [
        "def is_even(x):\n",
        "  return x%2==0\n",
        "num = [1,2,3,4,5,6,7,8,9,10]\n",
        "result = filter(is_even,num)\n",
        "print(list(result))"
      ],
      "metadata": {
        "colab": {
          "base_uri": "https://localhost:8080/"
        },
        "id": "YAA90Qn8SrMG",
        "outputId": "6cf67603-543f-4c35-b539-097223b278c3"
      },
      "execution_count": null,
      "outputs": [
        {
          "output_type": "stream",
          "name": "stdout",
          "text": [
            "[2, 4, 6, 8, 10]\n"
          ]
        }
      ]
    },
    {
      "cell_type": "code",
      "source": [
        "num = [5,10,15,20]\n",
        "greater_than_10 = filter(lambda x:x<10,num)\n",
        "print(list(greater_than_10))"
      ],
      "metadata": {
        "colab": {
          "base_uri": "https://localhost:8080/"
        },
        "id": "Pxw5utFDUF1C",
        "outputId": "808713aa-ea8a-433e-8597-7310ea105c47"
      },
      "execution_count": null,
      "outputs": [
        {
          "output_type": "stream",
          "name": "stdout",
          "text": [
            "[5]\n"
          ]
        }
      ]
    },
    {
      "cell_type": "markdown",
      "source": [
        "any() ------> At least one element should be true\n",
        "all() ------> All elements should be true"
      ],
      "metadata": {
        "id": "SjS5sjFrU22C"
      }
    },
    {
      "cell_type": "code",
      "source": [
        "values = [True, True, True]\n",
        "print(all(values))"
      ],
      "metadata": {
        "colab": {
          "base_uri": "https://localhost:8080/"
        },
        "id": "fKzIIsQUVNEN",
        "outputId": "81a02f68-cfdd-4f26-92ca-4299fe0a3df3"
      },
      "execution_count": null,
      "outputs": [
        {
          "output_type": "stream",
          "name": "stdout",
          "text": [
            "True\n"
          ]
        }
      ]
    },
    {
      "cell_type": "code",
      "source": [
        "form_data = [\"Salman\",\"\",\"dev@gmail.com\"]\n",
        "if all(form_data):\n",
        "  print(\"Form Submitted Successully\")\n",
        "else:\n",
        "  print(\"Please Fill all the Fields\")"
      ],
      "metadata": {
        "colab": {
          "base_uri": "https://localhost:8080/"
        },
        "id": "2eo2oDRAVWrT",
        "outputId": "37fe3834-151e-4b8d-fbd8-cae09cd07d0e"
      },
      "execution_count": null,
      "outputs": [
        {
          "output_type": "stream",
          "name": "stdout",
          "text": [
            "Please Fill all the Fields\n"
          ]
        }
      ]
    },
    {
      "cell_type": "code",
      "source": [
        "name = \"S\"\n",
        "print(name.isupper())\n",
        "print(name.islower())"
      ],
      "metadata": {
        "colab": {
          "base_uri": "https://localhost:8080/"
        },
        "id": "K2y3fJG8WBfh",
        "outputId": "23e2089c-53b6-4c7c-f78e-a30034b88dbd"
      },
      "execution_count": null,
      "outputs": [
        {
          "output_type": "stream",
          "name": "stdout",
          "text": [
            "True\n",
            "False\n"
          ]
        }
      ]
    },
    {
      "cell_type": "code",
      "source": [
        "password = input(\"Enter Your Password: \")\n",
        "rules =[\n",
        "    any(char.isupper() for char in password),\n",
        "    any(char.islower() for char in password ),\n",
        "    any(char.isdigit() for char in password),\n",
        "    any(char in \"!@#$%^&*\" for char in password),\n",
        "\n",
        "]\n",
        "if all(rules):\n",
        "  print(\"Password is valid\")\n",
        "else:\n",
        "  print(\"Password is not valid\")\n"
      ],
      "metadata": {
        "colab": {
          "base_uri": "https://localhost:8080/"
        },
        "id": "EEDJt5kKVuUz",
        "outputId": "8ca1e725-be36-430f-f13a-6796549b1255"
      },
      "execution_count": null,
      "outputs": [
        {
          "output_type": "stream",
          "name": "stdout",
          "text": [
            "Enter Your Password: Alam@123\n",
            "Password is valid\n"
          ]
        }
      ]
    },
    {
      "cell_type": "markdown",
      "source": [
        "# reversed()"
      ],
      "metadata": {
        "id": "eezZqV4zYFS1"
      }
    },
    {
      "cell_type": "code",
      "source": [
        "nums = [1,2,3,4,5,6]\n",
        "rev = reversed(nums)\n",
        "print(list(rev))"
      ],
      "metadata": {
        "colab": {
          "base_uri": "https://localhost:8080/"
        },
        "id": "CrG9IpfvXWhn",
        "outputId": "7118d4e4-5bc5-41d8-874e-ed1916c995f9"
      },
      "execution_count": null,
      "outputs": [
        {
          "output_type": "stream",
          "name": "stdout",
          "text": [
            "[6, 5, 4, 3, 2, 1]\n"
          ]
        }
      ]
    },
    {
      "cell_type": "code",
      "source": [
        "nums = [3,2,1,5,10,11,2]\n",
        "rev = reversed(nums)\n",
        "print(list(rev))"
      ],
      "metadata": {
        "colab": {
          "base_uri": "https://localhost:8080/"
        },
        "id": "RV1PzDkIYNEF",
        "outputId": "76a59b2c-3750-4bf4-b705-1c5cfec23ef0"
      },
      "execution_count": null,
      "outputs": [
        {
          "output_type": "stream",
          "name": "stdout",
          "text": [
            "[2, 11, 10, 5, 1, 2, 3]\n"
          ]
        }
      ]
    },
    {
      "cell_type": "markdown",
      "source": [
        "#  What is `sorted()` in Python?\n",
        "\n",
        "##  Purpose\n",
        "The `sorted()` function is used to **sort elements** of any iterable (like a list, tuple, set, etc.) in **ascending or descending order**. It does **not modify the original data** — instead, it returns a **new sorted list**.\n",
        "\n",
        "---\n",
        "\n",
        "##  Syntax\n",
        "\n",
        "```python\n",
        "sorted(iterable, key=None, reverse=False)\n",
        "```"
      ],
      "metadata": {
        "id": "6012Nv5XYYeB"
      }
    },
    {
      "cell_type": "code",
      "source": [
        "nums = [4,2,9,1]\n",
        "print(sorted(nums))"
      ],
      "metadata": {
        "colab": {
          "base_uri": "https://localhost:8080/"
        },
        "id": "6tkapqIuYTJe",
        "outputId": "1ad4d908-a752-4b38-fd83-bdebee1c7783"
      },
      "execution_count": 2,
      "outputs": [
        {
          "output_type": "stream",
          "name": "stdout",
          "text": [
            "[1, 2, 4, 9]\n"
          ]
        }
      ]
    },
    {
      "cell_type": "markdown",
      "source": [
        "## Descending order"
      ],
      "metadata": {
        "id": "j1Zxw4TSB3uD"
      }
    },
    {
      "cell_type": "code",
      "source": [
        "names = [\"Zara\",\"Ali\",\"Salman\"]\n",
        "print(sorted(names,reverse=True))"
      ],
      "metadata": {
        "colab": {
          "base_uri": "https://localhost:8080/"
        },
        "id": "OFSJqK3NYm9m",
        "outputId": "3f43f645-2675-42da-ec3b-5db730bf8f6b"
      },
      "execution_count": null,
      "outputs": [
        {
          "output_type": "stream",
          "name": "stdout",
          "text": [
            "['Zara', 'Salman', 'Ali']\n"
          ]
        }
      ]
    },
    {
      "cell_type": "code",
      "source": [],
      "metadata": {
        "id": "HFs3etGsZyeD"
      },
      "execution_count": null,
      "outputs": []
    }
  ]
}