{
  "nbformat": 4,
  "nbformat_minor": 0,
  "metadata": {
    "colab": {
      "provenance": [],
      "authorship_tag": "ABX9TyP1O+/Zefkui6BRkD57Sh+P",
      "include_colab_link": true
    },
    "kernelspec": {
      "name": "python3",
      "display_name": "Python 3"
    },
    "language_info": {
      "name": "python"
    }
  },
  "cells": [
    {
      "cell_type": "markdown",
      "metadata": {
        "id": "view-in-github",
        "colab_type": "text"
      },
      "source": [
        "<a href=\"https://colab.research.google.com/github/salmankhani-sk/FullStack-and-AICourse/blob/main/Phase1/python/OOPS.ipynb\" target=\"_parent\"><img src=\"https://colab.research.google.com/assets/colab-badge.svg\" alt=\"Open In Colab\"/></a>"
      ]
    },
    {
      "cell_type": "markdown",
      "source": [
        "#  Object-Oriented Programming (OOP)\n",
        "\n",
        "> OOP is a programming paradigm where we build programs using **classes** and **objects** to model real-world entities.\n",
        "\n",
        "---\n",
        "\n",
        "## 🧱Class\n",
        "- A **class** is like a blueprint or design.\n",
        "- It defines properties (attributes) and behaviors (methods) that objects created from the class will have.\n",
        "\n",
        "```python\n",
        "class Car:\n",
        "    def __init__(self, name, model, color):\n",
        "        self.name = name\n",
        "        self.model = model\n",
        "        self.color = color\n",
        "```\n",
        " # Objects\n",
        "- An object is an instance of a class.\n",
        "\n",
        "- It contains real values instead of variables defined in the class.\n",
        "# ```__init__ Method```\n",
        "Special method that automatically runs when an object is created.\n",
        "\n",
        "# self Keyword\n",
        "- Refers to the current instance of the class.\n",
        "\n",
        "- Used to access variables and methods of the object."
      ],
      "metadata": {
        "id": "7mt8oDswXTNc"
      }
    },
    {
      "cell_type": "code",
      "source": [
        "class Student:\n",
        "  def __init__(self,name,age):\n",
        "    self.name = name\n",
        "    self.age = age\n",
        "  def detail(self):\n",
        "    print(f\"Name is {self.name} and age is {self.age}\")\n",
        "s1 = Student(\"Tehssen\",22)\n",
        "s2 = Student(\"Alam\",23)\n",
        "s1.detail()\n",
        "s2.detail()"
      ],
      "metadata": {
        "id": "fBaakRIbUH2B",
        "colab": {
          "base_uri": "https://localhost:8080/"
        },
        "outputId": "fd5d3651-15a7-41cc-f1da-9a5d9d60ed1b"
      },
      "execution_count": null,
      "outputs": [
        {
          "output_type": "stream",
          "name": "stdout",
          "text": [
            "Name is Tehssen and age is 22\n",
            "Name is Alam and age is 23\n"
          ]
        }
      ]
    },
    {
      "cell_type": "markdown",
      "source": [
        "#  OOP - Object-Oriented Programming\n",
        "\n",
        "## Four Pillars of OOP\n",
        "\n",
        "---\n",
        "\n",
        "### 1. Encapsulation\n",
        "- **Data Locking**\n",
        "- Keeps the data **safe inside a class**\n",
        "- Restricts direct access to some of an object's components\n",
        "\n",
        "---\n",
        "\n",
        "### 2.  Abstraction\n",
        "- **Hides complex logic**\n",
        "- Only shows what is **important**\n",
        "- Makes the interface **simple and clean**\n",
        "\n",
        "---\n",
        "\n",
        "### 3.  Inheritance\n",
        "- **Child copies the parent**\n",
        "- Reuse existing code from a base class\n",
        "- Helps with **code reusability**\n",
        "\n",
        "---\n",
        "\n",
        "### 4.  Polymorphism\n",
        "- **Same thing, different behavior**\n",
        "- Same method name, but works **differently for each class**\n",
        "\n",
        "---\n",
        "\n",
        " _\"OOP helps us write cleaner, reusable, and scalable code.\"_\n"
      ],
      "metadata": {
        "id": "hRm4HZnqr--7"
      }
    },
    {
      "cell_type": "code",
      "source": [
        "class BankAcc:\n",
        "  def __init__(self,name,balance,acc_no):\n",
        "    self.name = name\n",
        "    self.__balance = balance\n",
        "    self.acc_no = acc_no\n",
        "obj = BankAcc(\"ihtesham\",200,12345)\n",
        "print(obj.name)\n",
        "print(obj.acc_no)\n",
        "try :\n",
        "  print(obj.__balance)\n",
        "except AttributeError:\n",
        "  print(\"You canno access Ihtesham balance\")"
      ],
      "metadata": {
        "colab": {
          "base_uri": "https://localhost:8080/"
        },
        "id": "0rO9S2ouvyPk",
        "outputId": "d960b2ca-ea56-4b7d-cf76-468fcebd3394"
      },
      "execution_count": null,
      "outputs": [
        {
          "output_type": "stream",
          "name": "stdout",
          "text": [
            "salman\n",
            "12345\n",
            "You canno access salman balance\n"
          ]
        }
      ]
    },
    {
      "cell_type": "code",
      "source": [
        "class Car:\n",
        "  def start(self):\n",
        "    print(\"current passes from the battery\")\n",
        "    print(\"Enfine rotate\")\n",
        "    print(\"fuel\")\n",
        "    print(\"......\")\n",
        "    print(\"Started\")\n",
        "mycar = Car()\n",
        "mycar.start()"
      ],
      "metadata": {
        "colab": {
          "base_uri": "https://localhost:8080/"
        },
        "id": "I9m-8iPfwrVk",
        "outputId": "570ef00c-0921-42d5-f0a6-d643c715b116"
      },
      "execution_count": null,
      "outputs": [
        {
          "output_type": "stream",
          "name": "stdout",
          "text": [
            "current passes from the battery\n",
            "Enfine rotate\n",
            "fuel\n",
            "......\n",
            "Started\n"
          ]
        }
      ]
    },
    {
      "cell_type": "code",
      "source": [
        "class Truck:\n",
        "  def horn(self):\n",
        "    print(\"Booong\")\n",
        "class Car:\n",
        "  def horn(self):\n",
        "    print(\"peep\")\n",
        "tr = Truck()\n",
        "cr = Car()\n",
        "tr.horn()\n",
        "cr.horn()"
      ],
      "metadata": {
        "colab": {
          "base_uri": "https://localhost:8080/"
        },
        "id": "pBLwkSWazmCB",
        "outputId": "f322e3cb-6ea4-4b07-eede-a9f81ddddd80"
      },
      "execution_count": null,
      "outputs": [
        {
          "output_type": "stream",
          "name": "stdout",
          "text": [
            "Booong\n",
            "peep\n"
          ]
        }
      ]
    },
    {
      "cell_type": "markdown",
      "source": [
        "# Inheritance\n",
        "## inharitance allows a child class to get all the properties from paternts class\n",
        "## GrandFather -----> Father ---> Son\n",
        "## Types of inheritance\n",
        "* Single (One parent ---> One Child)\n",
        "* Multiple (One Child ---> inheritance from multiple parent)\n",
        "* Multilevel (Parent ---> Child -----> Grand Child)\n",
        "* Hierachical (one parent ----> many children)\n",
        "* Hybrid (Combination)\n"
      ],
      "metadata": {
        "id": "4uk8GH9k6SdN"
      }
    },
    {
      "cell_type": "code",
      "source": [
        "class Animal:\n",
        "  def sound(self):\n",
        "    print(\"Animals make sound\")\n",
        "class Dog(Animal):\n",
        "  def bark(self):\n",
        "    print(\"Ghwab ghwab\")\n",
        "obj = Dog()\n",
        "obj.sound()\n",
        "obj.bark()\n",
        "obj2 = Animal()\n",
        "obj2.sound()"
      ],
      "metadata": {
        "colab": {
          "base_uri": "https://localhost:8080/"
        },
        "id": "mOocj80l8M7R",
        "outputId": "980181d8-3d1e-4e35-8412-673779f3943f"
      },
      "execution_count": null,
      "outputs": [
        {
          "output_type": "stream",
          "name": "stdout",
          "text": [
            "Animals make sound\n",
            "Ghwab ghwab\n",
            "Animals make sound\n"
          ]
        }
      ]
    },
    {
      "cell_type": "code",
      "source": [
        "class GrandFather:\n",
        "  def kissan(self):\n",
        "    print(\"Kaithee bari\")\n",
        "class Father(GrandFather):\n",
        "  def army(self):\n",
        "    print(\"jang\")\n",
        "class Son(Father):\n",
        "  def softwareEngineer(self):\n",
        "    print(\"Software Develop\")\n",
        "class GranSon(Son):\n",
        "  def agentic(self):\n",
        "    print(\"Agentic AI Engineer\")\n",
        "obj1 = Son()\n",
        "obj1.kissan()\n",
        "obj1.army()\n",
        "obj1.softwareEngineer()\n",
        "obj2 = GranSon()\n",
        "obj2.kissan()"
      ],
      "metadata": {
        "colab": {
          "base_uri": "https://localhost:8080/"
        },
        "id": "oDDqp2cU8zVF",
        "outputId": "c6acee61-752d-4b4b-97e8-760509a4f08f"
      },
      "execution_count": null,
      "outputs": [
        {
          "output_type": "stream",
          "name": "stdout",
          "text": [
            "Kaithee bari\n",
            "jang\n",
            "Software Develop\n",
            "Kaithee bari\n"
          ]
        }
      ]
    },
    {
      "cell_type": "code",
      "source": [
        "class Plar:\n",
        "  def house(self):\n",
        "    print(\"This is fathers house\")\n",
        "class Mom:\n",
        "  def jewellery(self):\n",
        "    print(\"This is mothers jewellery\")\n",
        "class Zwe(Plar,Mom):\n",
        "  def laptop(self):\n",
        "    print(\"this is da zwe laptop\")\n",
        "c = Zwe()\n",
        "c.house()\n",
        "c.jewellery()\n",
        "c.laptop()"
      ],
      "metadata": {
        "colab": {
          "base_uri": "https://localhost:8080/"
        },
        "id": "bpE3EMnz9tNy",
        "outputId": "096e8303-27d7-4948-aeac-4cb8f9c436c9"
      },
      "execution_count": null,
      "outputs": [
        {
          "output_type": "stream",
          "name": "stdout",
          "text": [
            "This is fathers house\n",
            "This is mothers jewellery\n",
            "this is da zwe laptop\n"
          ]
        }
      ]
    },
    {
      "cell_type": "code",
      "source": [],
      "metadata": {
        "id": "-6oD0xi-BLT8"
      },
      "execution_count": null,
      "outputs": []
    }
  ]
}