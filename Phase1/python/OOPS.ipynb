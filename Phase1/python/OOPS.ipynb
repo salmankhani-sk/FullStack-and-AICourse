{
  "nbformat": 4,
  "nbformat_minor": 0,
  "metadata": {
    "colab": {
      "provenance": [],
      "authorship_tag": "ABX9TyOSGasrlcj1r7K/aWhdpKOl",
      "include_colab_link": true
    },
    "kernelspec": {
      "name": "python3",
      "display_name": "Python 3"
    },
    "language_info": {
      "name": "python"
    }
  },
  "cells": [
    {
      "cell_type": "markdown",
      "metadata": {
        "id": "view-in-github",
        "colab_type": "text"
      },
      "source": [
        "<a href=\"https://colab.research.google.com/github/salmankhani-sk/FullStack-and-AICourse/blob/main/Phase1/python/OOPS.ipynb\" target=\"_parent\"><img src=\"https://colab.research.google.com/assets/colab-badge.svg\" alt=\"Open In Colab\"/></a>"
      ]
    },
    {
      "cell_type": "markdown",
      "source": [
        "#  Object-Oriented Programming (OOP)\n",
        "\n",
        "> OOP is a programming paradigm where we build programs using **classes** and **objects** to model real-world entities.\n",
        "\n",
        "---\n",
        "\n",
        "## Class\n",
        "- A **class** is like a blueprint or design.\n",
        "- It defines properties (attributes) and behaviors (methods) that objects created from the class will have.\n",
        "\n",
        "```python\n",
        "class Car:\n",
        "    def __init__(self, name, model, color):\n",
        "        self.name = name\n",
        "        self.model = model\n",
        "        self.color = color\n",
        "```\n",
        " # Objects\n",
        "- An object is an instance of a class.\n",
        "\n",
        "- It contains real values instead of variables defined in the class.\n",
        "# ```__init__ Method```\n",
        "Special method that automatically runs when an object is created.\n",
        "\n",
        "# self Keyword\n",
        "- Refers to the current instance of the class.\n",
        "\n",
        "- Used to access variables and methods of the object."
      ],
      "metadata": {
        "id": "7mt8oDswXTNc"
      }
    },
    {
      "cell_type": "code",
      "source": [
        "class Student:\n",
        "  def __init__(self,name,age):\n",
        "    self.name = name\n",
        "    self.age = age\n",
        "  def detail(self):\n",
        "    print(f\"Name is {self.name} and age is {self.age}\")\n",
        "s1 = Student(\"Tehssen\",22)\n",
        "s2 = Student(\"Alam\",23)\n",
        "s1.detail()\n",
        "s2.detail()"
      ],
      "metadata": {
        "id": "fBaakRIbUH2B",
        "colab": {
          "base_uri": "https://localhost:8080/"
        },
        "outputId": "fd5d3651-15a7-41cc-f1da-9a5d9d60ed1b"
      },
      "execution_count": null,
      "outputs": [
        {
          "output_type": "stream",
          "name": "stdout",
          "text": [
            "Name is Tehssen and age is 22\n",
            "Name is Alam and age is 23\n"
          ]
        }
      ]
    },
    {
      "cell_type": "markdown",
      "source": [
        "#  OOP - Object-Oriented Programming\n",
        "\n",
        "## Four Pillars of OOP\n",
        "\n",
        "---\n",
        "\n",
        "### 1. Encapsulation\n",
        "- **Data Locking**\n",
        "- Keeps the data **safe inside a class**\n",
        "- Restricts direct access to some of an object's components\n",
        "\n",
        "---\n",
        "\n",
        "### 2.  Abstraction\n",
        "- **Hides complex logic**\n",
        "- Only shows what is **important**\n",
        "- Makes the interface **simple and clean**\n",
        "\n",
        "---\n",
        "\n",
        "### 3.  Inheritance\n",
        "- **Child copies the parent**\n",
        "- Reuse existing code from a base class\n",
        "- Helps with **code reusability**\n",
        "\n",
        "---\n",
        "\n",
        "### 4.  Polymorphism\n",
        "- **Same thing, different behavior**\n",
        "- Same method name, but works **differently for each class**\n",
        "\n",
        "---\n",
        "\n",
        " _\"OOP helps us write cleaner, reusable, and scalable code.\"_\n"
      ],
      "metadata": {
        "id": "hRm4HZnqr--7"
      }
    },
    {
      "cell_type": "code",
      "source": [
        "class BankAcc:\n",
        "  def __init__(self,name,balance,acc_no):\n",
        "    self.name = name\n",
        "    self.__balance = balance\n",
        "    self.acc_no = acc_no\n",
        "obj = BankAcc(\"ihtesham\",200,12345)\n",
        "print(obj.name)\n",
        "print(obj.acc_no)\n",
        "try :\n",
        "  print(obj.__balance)\n",
        "except AttributeError:\n",
        "  print(\"You canno access Ihtesham balance\")"
      ],
      "metadata": {
        "colab": {
          "base_uri": "https://localhost:8080/"
        },
        "id": "0rO9S2ouvyPk",
        "outputId": "d960b2ca-ea56-4b7d-cf76-468fcebd3394"
      },
      "execution_count": null,
      "outputs": [
        {
          "output_type": "stream",
          "name": "stdout",
          "text": [
            "salman\n",
            "12345\n",
            "You canno access salman balance\n"
          ]
        }
      ]
    },
    {
      "cell_type": "code",
      "source": [
        "class Car:\n",
        "  def start(self):\n",
        "    print(\"current passes from the battery\")\n",
        "    print(\"Enfine rotate\")\n",
        "    print(\"fuel\")\n",
        "    print(\"......\")\n",
        "    print(\"Started\")\n",
        "mycar = Car()\n",
        "mycar.start()"
      ],
      "metadata": {
        "colab": {
          "base_uri": "https://localhost:8080/"
        },
        "id": "I9m-8iPfwrVk",
        "outputId": "570ef00c-0921-42d5-f0a6-d643c715b116"
      },
      "execution_count": null,
      "outputs": [
        {
          "output_type": "stream",
          "name": "stdout",
          "text": [
            "current passes from the battery\n",
            "Enfine rotate\n",
            "fuel\n",
            "......\n",
            "Started\n"
          ]
        }
      ]
    },
    {
      "cell_type": "code",
      "source": [
        "class Truck:\n",
        "  def horn(self):\n",
        "    print(\"Booong\")\n",
        "class Car:\n",
        "  def horn(self):\n",
        "    print(\"peep\")\n",
        "tr = Truck()\n",
        "cr = Car()\n",
        "tr.horn()\n",
        "cr.horn()"
      ],
      "metadata": {
        "colab": {
          "base_uri": "https://localhost:8080/"
        },
        "id": "pBLwkSWazmCB",
        "outputId": "f322e3cb-6ea4-4b07-eede-a9f81ddddd80"
      },
      "execution_count": null,
      "outputs": [
        {
          "output_type": "stream",
          "name": "stdout",
          "text": [
            "Booong\n",
            "peep\n"
          ]
        }
      ]
    },
    {
      "cell_type": "markdown",
      "source": [
        "#  Inheritance in Python\n",
        "\n",
        "## What is Inheritance?\n",
        "Inheritance allows a **child class** to get all the **properties and methods** from a **parent class**. It helps in **code reusability**, making programs easier to manage and scale.\n",
        "\n",
        "---\n",
        "\n",
        "## Types of Inheritance\n",
        "\n",
        "### 1. Single Inheritance  \n",
        " One Parent Class → One Child Class  \n",
        "The child class inherits from only one parent class.\n",
        "\n",
        "---\n",
        "\n",
        "### 2. Multiple Inheritance  \n",
        " One Child Class → Multiple Parent Classes  \n",
        "The child class can inherit features from more than one parent class.\n",
        "\n",
        "---\n",
        "\n",
        "### 3. Multilevel Inheritance  \n",
        " Grandparent → Parent → Child  \n",
        "Inheritance across multiple levels of hierarchy.\n",
        "\n",
        "---\n",
        "\n",
        "### 4. Hierarchical Inheritance  \n",
        " One Parent Class → Many Child Classes  \n",
        "Multiple child classes inherit from the same parent class.\n",
        "\n",
        "---\n",
        "\n",
        "### 5. Hybrid Inheritance  \n",
        " Combination of Multiple Inheritance Types  \n",
        "This is a mix of two or more inheritance types (like multiple + multilevel).\n",
        "\n",
        "---\n",
        "\n",
        "##  Summary\n",
        "\n",
        "| Type               | Structure                                | Description                                   |\n",
        "|--------------------|-------------------------------------------|-----------------------------------------------|\n",
        "| Single             | Parent → Child                           | One class inherits from one base class        |\n",
        "| Multiple           | Parent1 + Parent2 → Child                | Inherits from multiple base classes           |\n",
        "| Multilevel         | Grandparent → Parent → Child             | Chain of inheritance across multiple levels   |\n",
        "| Hierarchical       | Parent → Child1, Child2, Child3          | One base class with many subclasses           |\n",
        "| Hybrid             | Mix of Multiple + Multilevel, etc.       | Combines multiple types of inheritance        |\n",
        "\n",
        "---\n",
        "\n",
        "\n"
      ],
      "metadata": {
        "id": "Jn8p0B3AzxS9"
      }
    },
    {
      "cell_type": "markdown",
      "source": [
        "# Single Ineritance"
      ],
      "metadata": {
        "id": "I0b8yJd92BjB"
      }
    },
    {
      "cell_type": "code",
      "source": [
        "class Animal:\n",
        "  def sound(self):\n",
        "    print(\"Animals makes sound\")\n",
        "class Dog(Animal):\n",
        "  def barking(self):\n",
        "    print(\"Ghwab ghwab\")\n",
        "d = Dog()\n",
        "d.sound()\n",
        "d.barking()\n",
        "b = Animal()\n",
        "b.sound()"
      ],
      "metadata": {
        "colab": {
          "base_uri": "https://localhost:8080/"
        },
        "id": "w8YYLRqX1GCO",
        "outputId": "08206dd6-7b03-44e7-98dc-3a9ea5947d70"
      },
      "execution_count": null,
      "outputs": [
        {
          "output_type": "stream",
          "name": "stdout",
          "text": [
            "Animals makes sound\n",
            "Ghwab ghwab\n",
            "Animals makes sound\n"
          ]
        }
      ]
    },
    {
      "cell_type": "markdown",
      "source": [
        "# Multiple Inheritance"
      ],
      "metadata": {
        "id": "XfwfS5L42s3a"
      }
    },
    {
      "cell_type": "code",
      "source": [
        "class Father:\n",
        "  def house(self):\n",
        "    print(\"Father has house\")\n",
        "class Mother:\n",
        "  def jewellery(self):\n",
        "    print(\"Mother has jewellery\")\n",
        "class Alam(Father,Mother):\n",
        "  def car(self):\n",
        "    print(\"Alam has Car\")\n",
        "ihtesham = Alam()\n",
        "ihtesham.car()\n",
        "ihtesham.house()\n",
        "ihtesham.jewellery()"
      ],
      "metadata": {
        "colab": {
          "base_uri": "https://localhost:8080/"
        },
        "id": "Hh01ZoCu145L",
        "outputId": "ee362680-4157-49f5-8045-30bd78729738"
      },
      "execution_count": null,
      "outputs": [
        {
          "output_type": "stream",
          "name": "stdout",
          "text": [
            "Alam has Car\n",
            "Father has house\n",
            "Mother has jewellery\n"
          ]
        }
      ]
    },
    {
      "cell_type": "markdown",
      "source": [
        "# MultiLevel Inheritance"
      ],
      "metadata": {
        "id": "PGURkRwY7zsH"
      }
    },
    {
      "cell_type": "code",
      "source": [
        "class GrandFather:\n",
        "  def kisan(self):\n",
        "    print(\"GrandFatehr has lands\")\n",
        "class Father(GrandFather):\n",
        "  def army(self):\n",
        "    print(\"Father is in Army\")\n",
        "class Son(Father):\n",
        "  def softEng(self):\n",
        "    print(\"Son is a Software Engineering\")\n",
        "s = Son()\n",
        "s.kisan()\n",
        "s.army()\n",
        "s.softEng()\n"
      ],
      "metadata": {
        "colab": {
          "base_uri": "https://localhost:8080/"
        },
        "id": "EV02GBzj2llp",
        "outputId": "d8564d33-0950-409e-96c1-88e6d2a96cad"
      },
      "execution_count": null,
      "outputs": [
        {
          "output_type": "stream",
          "name": "stdout",
          "text": [
            "GrandFatehr has lands\n",
            "Father is in Army\n",
            "Son is a Software Engineering\n"
          ]
        }
      ]
    },
    {
      "cell_type": "markdown",
      "source": [
        "# Hierarchical Inheritance"
      ],
      "metadata": {
        "id": "3rz-NtGXNl6-"
      }
    },
    {
      "cell_type": "code",
      "source": [
        "class Parent:\n",
        "  def language(self):\n",
        "    print(\"Speaks pashto\")\n",
        "class Taif(Parent):\n",
        "  def ukLang(self):\n",
        "    print(\"Speaks English\")\n",
        "class Sohail(Parent):\n",
        "  def arabLang(self):\n",
        "    print(\"Speaks Arabic\")\n",
        "tf = Taif()\n",
        "tf.language()\n",
        "tf.ukLang()\n"
      ],
      "metadata": {
        "colab": {
          "base_uri": "https://localhost:8080/"
        },
        "id": "e0USQmXLNtyl",
        "outputId": "7893978e-f208-4984-b080-d681bfbf650c"
      },
      "execution_count": null,
      "outputs": [
        {
          "output_type": "stream",
          "name": "stdout",
          "text": [
            "Speaks pashto\n",
            "Speaks English\n"
          ]
        }
      ]
    },
    {
      "cell_type": "markdown",
      "source": [
        "# Hybrid Inheritance"
      ],
      "metadata": {
        "id": "_gYc6EHsQr5s"
      }
    },
    {
      "cell_type": "code",
      "source": [
        "class A:\n",
        "  def showA(self):\n",
        "    print(\"Class A\")\n",
        "class B(A):\n",
        "  def showB(self):\n",
        "    print(\"Class B\")\n",
        "class C:\n",
        "  def showC(self):\n",
        "    print(\"Class C\")\n",
        "class D(B,C):\n",
        "  def show(self):\n",
        "    print(\"Class D\")\n",
        "c = C()\n",
        "c.showC()"
      ],
      "metadata": {
        "colab": {
          "base_uri": "https://localhost:8080/"
        },
        "id": "ejBnrt2IPQdN",
        "outputId": "44ccb090-33d0-4be6-8628-7bb056eb389a"
      },
      "execution_count": null,
      "outputs": [
        {
          "output_type": "stream",
          "name": "stdout",
          "text": [
            "Class C\n"
          ]
        }
      ]
    },
    {
      "cell_type": "code",
      "source": [
        "name = \"urooj\"\n",
        "name = \"salman\"\n",
        "print(name)"
      ],
      "metadata": {
        "colab": {
          "base_uri": "https://localhost:8080/"
        },
        "id": "yW78xeeEdc8i",
        "outputId": "810cd626-fa82-439d-b5fb-7fb1f2ccb56f"
      },
      "execution_count": null,
      "outputs": [
        {
          "output_type": "stream",
          "name": "stdout",
          "text": [
            "salman\n"
          ]
        }
      ]
    },
    {
      "cell_type": "markdown",
      "source": [
        "# Polymorphism"
      ],
      "metadata": {
        "id": "3xdQzvlKcrei"
      }
    },
    {
      "cell_type": "code",
      "source": [
        "class Payment:\n",
        "  def pay(self):\n",
        "    print(\"Paying\")\n",
        "class EasyPaisa(Payment):\n",
        "  def pay(self):\n",
        "    print(\"Paying through Easypaisa\")\n",
        "class JazzCash(Payment):\n",
        "  def pay(self):\n",
        "    print(\"Paying through JazzCash\")\n",
        "obj1 = [EasyPaisa(),JazzCash()]\n",
        "for urooj in obj1:\n",
        "  urooj.pay()"
      ],
      "metadata": {
        "colab": {
          "base_uri": "https://localhost:8080/"
        },
        "id": "nsnU9Ln2dIEA",
        "outputId": "99686c48-75b7-4007-a27f-07dc092385f4"
      },
      "execution_count": null,
      "outputs": [
        {
          "output_type": "stream",
          "name": "stdout",
          "text": [
            "Paying through Easypaisa\n",
            "Paying through JazzCash\n"
          ]
        }
      ]
    },
    {
      "cell_type": "code",
      "source": [
        "class Bird:\n",
        "  def fly(self):\n",
        "    print(\"Bird is flying\")\n",
        "class Eagle(Bird):\n",
        "  def fly(self):\n",
        "    print(\"Eagle is flying\")\n",
        "class Parrot(Bird):\n",
        "  def fly(self):\n",
        "    print(\"Parrot is flying\")\n",
        "def taif(obj:Bird):\n",
        "  obj.fly()\n",
        "taif(Eagle())\n",
        "taif(Bird())\n"
      ],
      "metadata": {
        "id": "UDjbQ8lfeFFn",
        "colab": {
          "base_uri": "https://localhost:8080/"
        },
        "outputId": "d99a30bd-d761-4b2b-fbec-fdf5b0abd093"
      },
      "execution_count": null,
      "outputs": [
        {
          "output_type": "stream",
          "name": "stdout",
          "text": [
            "Eagle is flying\n",
            "Bird is flying\n"
          ]
        }
      ]
    },
    {
      "cell_type": "markdown",
      "source": [
        "# Abstraction\n"
      ],
      "metadata": {
        "id": "ZNu2TIAlsEqk"
      }
    },
    {
      "cell_type": "code",
      "source": [
        "from abc import ABC, abstractmethod\n",
        "class Animal(ABC):\n",
        "  @abstractmethod\n",
        "  def sound(self):\n",
        "    print(\"Animal can make sounds\")\n",
        "\n",
        "class Dog(Animal):\n",
        "  def sound(self):\n",
        "    super().sound()\n",
        "    print(\"Dog is barking\")\n",
        "class Cat(Animal):\n",
        "  def sound(self):\n",
        "    print(\"Cat is meowing\")\n",
        "dg = Dog()\n",
        "dg.sound()\n",
        "ct = Cat()\n",
        "ct.sound()"
      ],
      "metadata": {
        "colab": {
          "base_uri": "https://localhost:8080/"
        },
        "id": "-xtrXO2rsRSS",
        "outputId": "9398c44f-82d1-44e6-ff59-0dd1e38887a1"
      },
      "execution_count": null,
      "outputs": [
        {
          "output_type": "stream",
          "name": "stdout",
          "text": [
            "Animal can make sounds\n",
            "Dog is barking\n",
            "Cat is meowing\n"
          ]
        }
      ]
    },
    {
      "cell_type": "markdown",
      "source": [
        "# super() in Python\n",
        "\n",
        "##  What is `super()`?\n",
        "\n",
        "The `super()` function in Python is used to **call methods or constructors** from the **parent class**. It's commonly used inside child classes to **access or extend** the functionality of the parent class **without repeating code**.\n",
        "\n",
        "---\n",
        "\n",
        "## Why use `super()`?\n",
        "\n",
        "- Avoids code duplication\n",
        "- Calls the parent class’s methods easily\n",
        "- Works well with multiple inheritance\n",
        "- Maintains clean and scalable class hierarchies\n",
        "\n",
        "---\n",
        "\n",
        "##  Where is `super()` used?\n",
        "\n",
        "### 1. Inside `__init__` constructor  \n",
        " To initialize the parent class while defining a child class.\n",
        "\n",
        "### 2. Inside instance methods  \n",
        "To call a method from the parent class inside an overridden method.\n",
        "\n",
        "---\n",
        "\n",
        "## Syntax\n",
        "\n",
        "```python\n",
        "super().method_name()\n"
      ],
      "metadata": {
        "id": "Xh_BGO7Vqy5i"
      }
    },
    {
      "cell_type": "code",
      "source": [
        "class Parent:\n",
        "  def proper(self):\n",
        "    print(\"This is my dad's property \")\n",
        "class Child(Parent):\n",
        "  def proper(self):\n",
        "    super().proper()\n",
        "    print(\"This is my property\")\n",
        "c = Child()\n",
        "c.proper()"
      ],
      "metadata": {
        "colab": {
          "base_uri": "https://localhost:8080/"
        },
        "id": "SmPDSe1Zq1Iy",
        "outputId": "204ab159-528f-47ff-d070-8ce7240fb336"
      },
      "execution_count": null,
      "outputs": [
        {
          "output_type": "stream",
          "name": "stdout",
          "text": [
            "This is my dad's property \n",
            "This is my property\n"
          ]
        }
      ]
    },
    {
      "cell_type": "markdown",
      "source": [
        "# Encapsulation"
      ],
      "metadata": {
        "id": "IX11yWvXtDYu"
      }
    },
    {
      "cell_type": "code",
      "source": [
        "class Account:\n",
        "  def __init__(self):\n",
        "    self.__balance = 2000\n",
        "  def show_balance(self):\n",
        "    print(self.__balance)\n",
        "acc = Account()\n",
        "acc.show_balance()"
      ],
      "metadata": {
        "colab": {
          "base_uri": "https://localhost:8080/"
        },
        "id": "NgclFujW_D9a",
        "outputId": "9a9d6374-bcc6-4f31-8b10-16b3c1aebe4d"
      },
      "execution_count": null,
      "outputs": [
        {
          "output_type": "stream",
          "name": "stdout",
          "text": [
            "2000\n"
          ]
        }
      ]
    },
    {
      "cell_type": "code",
      "source": [
        "class Account:\n",
        "  def __init__(self):\n",
        "    self.__balance = 1000\n",
        "acc = Account()\n",
        "print(acc.__balance)\n",
        "print(acc.__balance - 200)"
      ],
      "metadata": {
        "colab": {
          "base_uri": "https://localhost:8080/",
          "height": 193
        },
        "id": "k2yJQVv2rUBM",
        "outputId": "f0be2173-fa10-4115-8cac-e977657b91ca"
      },
      "execution_count": null,
      "outputs": [
        {
          "output_type": "error",
          "ename": "AttributeError",
          "evalue": "'Account' object has no attribute '__balance'",
          "traceback": [
            "\u001b[0;31m---------------------------------------------------------------------------\u001b[0m",
            "\u001b[0;31mAttributeError\u001b[0m                            Traceback (most recent call last)",
            "\u001b[0;32m/tmp/ipython-input-14-2555087952.py\u001b[0m in \u001b[0;36m<cell line: 0>\u001b[0;34m()\u001b[0m\n\u001b[1;32m      3\u001b[0m     \u001b[0mself\u001b[0m\u001b[0;34m.\u001b[0m\u001b[0m__balance\u001b[0m \u001b[0;34m=\u001b[0m \u001b[0;36m1000\u001b[0m\u001b[0;34m\u001b[0m\u001b[0;34m\u001b[0m\u001b[0m\n\u001b[1;32m      4\u001b[0m \u001b[0macc\u001b[0m \u001b[0;34m=\u001b[0m \u001b[0mAccount\u001b[0m\u001b[0;34m(\u001b[0m\u001b[0;34m)\u001b[0m\u001b[0;34m\u001b[0m\u001b[0;34m\u001b[0m\u001b[0m\n\u001b[0;32m----> 5\u001b[0;31m \u001b[0mprint\u001b[0m\u001b[0;34m(\u001b[0m\u001b[0macc\u001b[0m\u001b[0;34m.\u001b[0m\u001b[0m__balance\u001b[0m\u001b[0;34m)\u001b[0m\u001b[0;34m\u001b[0m\u001b[0;34m\u001b[0m\u001b[0m\n\u001b[0m\u001b[1;32m      6\u001b[0m \u001b[0mprint\u001b[0m\u001b[0;34m(\u001b[0m\u001b[0macc\u001b[0m\u001b[0;34m.\u001b[0m\u001b[0m__balance\u001b[0m \u001b[0;34m-\u001b[0m \u001b[0;36m200\u001b[0m\u001b[0;34m)\u001b[0m\u001b[0;34m\u001b[0m\u001b[0;34m\u001b[0m\u001b[0m\n",
            "\u001b[0;31mAttributeError\u001b[0m: 'Account' object has no attribute '__balance'"
          ]
        }
      ]
    },
    {
      "cell_type": "code",
      "source": [
        "class Account:\n",
        "  def __init__(self):\n",
        "    self.__balance = 100000\n",
        "  def deposit(self, amount):\n",
        "    if amount > 0 :\n",
        "      self.__balance = amount + self.__balance\n",
        "  def get_balance(self):\n",
        "    return self.__balance\n",
        "\n",
        "ac = Account()\n",
        "ac.deposit(200)\n",
        "print(ac.get_balance())"
      ],
      "metadata": {
        "colab": {
          "base_uri": "https://localhost:8080/"
        },
        "id": "livlcbHftqA6",
        "outputId": "06d50b58-396b-4acd-fe09-f433082580ea"
      },
      "execution_count": null,
      "outputs": [
        {
          "output_type": "stream",
          "name": "stdout",
          "text": [
            "100200\n"
          ]
        }
      ]
    },
    {
      "cell_type": "code",
      "source": [
        "class ATM:\n",
        "  def __init__(self) :\n",
        "    self.__pin = \"0000\"\n",
        "  def set_pin(self, new_pin):\n",
        "    if len(new_pin) == 4:\n",
        "      self.__pin = new_pin\n",
        "      print(\"Pin set successfully\")\n",
        "    else :\n",
        "      print(\"Pin number is too long please it should be 4 digits\")\n",
        "  def get_pin(self):\n",
        "    return self.__pin\n",
        "atm = ATM()\n",
        "print(atm.get_pin())\n",
        "atm.set_pin(\"1234\")\n",
        "print(atm.get_pin)"
      ],
      "metadata": {
        "colab": {
          "base_uri": "https://localhost:8080/"
        },
        "id": "305JGLrvug2T",
        "outputId": "a9230555-1574-4e6a-e9ff-6507b21dc5f1"
      },
      "execution_count": null,
      "outputs": [
        {
          "output_type": "stream",
          "name": "stdout",
          "text": [
            "0000\n",
            "Pin set successfully\n",
            "<bound method ATM.get_pin of <__main__.ATM object at 0x7e740c60ab10>>\n"
          ]
        }
      ]
    },
    {
      "cell_type": "markdown",
      "source": [
        "#  Private Methods in Python\n",
        "\n",
        "##  What are Private Methods?\n",
        "\n",
        "Private methods are methods that **cannot be accessed directly from outside** the class. They are used for **internal operations** that should not be exposed to users of the class.\n",
        "\n",
        "In Python, private methods are defined by **double underscores** before the method name:\n",
        "\n",
        "```python\n",
        "def __method(self):\n"
      ],
      "metadata": {
        "id": "Cam-lamS3CBX"
      }
    },
    {
      "cell_type": "code",
      "source": [
        "class Robot:\n",
        "  def __init__(self):\n",
        "    self.name = \"Bot\"\n",
        "  def start(self):\n",
        "    print(f\"{self.name} starting\")\n",
        "    self.__restore()\n",
        "  def __restore(self):\n",
        "    print(f\"{self.name} is restoring\")\n",
        "r = Robot()\n",
        "r.start()"
      ],
      "metadata": {
        "colab": {
          "base_uri": "https://localhost:8080/"
        },
        "id": "JqVWtiDb26b_",
        "outputId": "8b3c9ca2-4440-452e-a1f1-0f18c4a80a81"
      },
      "execution_count": null,
      "outputs": [
        {
          "output_type": "stream",
          "name": "stdout",
          "text": [
            "Bot starting\n",
            "Bot is restoring\n"
          ]
        }
      ]
    },
    {
      "cell_type": "code",
      "source": [
        "class User:\n",
        "  def __init__(self,username,password):\n",
        "    self.username = username\n",
        "    self.__password = password\n",
        "  def __verify(self,input_pass):\n",
        "    return input_pass == self.__password\n",
        "  def login(self, password_input):\n",
        "    if self.__verify(password_input):\n",
        "      print(\"Login Successful\")\n",
        "    else :\n",
        "      print(\"Login Failed\")\n",
        "taif = User(\"taif\",\"admin123\")\n",
        "taif.login(\"admin234jlkj\")"
      ],
      "metadata": {
        "colab": {
          "base_uri": "https://localhost:8080/"
        },
        "id": "V0ZyEYqz4AEx",
        "outputId": "cb910a9b-5787-43b4-a9bb-7ae5ae1d5669"
      },
      "execution_count": null,
      "outputs": [
        {
          "output_type": "stream",
          "name": "stdout",
          "text": [
            "Login Successful\n",
            "Login Failed\n"
          ]
        }
      ]
    }
  ]
}